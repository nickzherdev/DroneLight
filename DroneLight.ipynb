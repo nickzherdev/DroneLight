{
 "cells": [
  {
   "cell_type": "markdown",
   "metadata": {},
   "source": [
    "### Pipeline:\n",
    " \n",
    "1) Get data\n",
    "    - what data do we need?\n",
    "    - how to store it?\n",
    "    - how much train data is necessary?\n",
    "    - How to assign raw data samples with labels?\n",
    "    - what are the features?\n",
    "    - what is the target?\n",
    "    - target label (a letter) corresponds with numpy array of setpoints for drone\n",
    "    \n",
    "    \n",
    "2) Choose the classifier\n",
    "    - RandomForest\n",
    "    - GradientBoosting\n",
    "    - what quality metrics should we use?\n",
    "    - \n",
    " \n",
    "3) OUTPUT\n",
    "    - for each gesture classifier needs to recognize the correct label\n",
    "    - using this label as a key in dictionary we can send numpy array value to drone\n",
    "    \n",
    " \n"
   ]
  }
 ],
 "metadata": {
  "kernelspec": {
   "display_name": "Python 3",
   "language": "python",
   "name": "python3"
  },
  "language_info": {
   "codemirror_mode": {
    "name": "ipython",
    "version": 3
   },
   "file_extension": ".py",
   "mimetype": "text/x-python",
   "name": "python",
   "nbconvert_exporter": "python",
   "pygments_lexer": "ipython3",
   "version": "3.6.8"
  }
 },
 "nbformat": 4,
 "nbformat_minor": 2
}
