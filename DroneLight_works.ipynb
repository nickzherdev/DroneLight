{
  "nbformat": 4,
  "nbformat_minor": 0,
  "metadata": {
    "kernelspec": {
      "display_name": "Python 3",
      "language": "python",
      "name": "python3"
    },
    "language_info": {
      "codemirror_mode": {
        "name": "ipython",
        "version": 3
      },
      "file_extension": ".py",
      "mimetype": "text/x-python",
      "name": "python",
      "nbconvert_exporter": "python",
      "pygments_lexer": "ipython3",
      "version": "3.6.8"
    },
    "colab": {
      "name": "Copy of DroneLight.ipynb",
      "provenance": [],
      "collapsed_sections": [
        "AQbQfywu6KLG"
      ],
      "include_colab_link": true
    }
  },
  "cells": [
    {
      "cell_type": "markdown",
      "metadata": {
        "id": "view-in-github",
        "colab_type": "text"
      },
      "source": [
        "<a href=\"https://colab.research.google.com/github/nickzherdev/DroneLight/blob/master/DroneLight_works.ipynb\" target=\"_parent\"><img src=\"https://colab.research.google.com/assets/colab-badge.svg\" alt=\"Open In Colab\"/></a>"
      ]
    },
    {
      "cell_type": "markdown",
      "metadata": {
        "id": "VyhgBbSj6KJ9",
        "colab_type": "text"
      },
      "source": [
        "### Overview:\n",
        "\n",
        "STEPS\n",
        "- collecting training and testing data \n",
        "- extracting features from IMU inputs \n",
        "- for each input gesture classifier needs to recognize the correct label\n",
        "- draw visualization\n",
        "- using this label as a key in dictionary we can send numpy array value to drone"
      ]
    },
    {
      "cell_type": "markdown",
      "metadata": {
        "id": "XLGpHynK6KKB",
        "colab_type": "text"
      },
      "source": [
        "### Questions\n",
        "\n",
        "1) Get data\n",
        "    - how to store it?\n",
        "    - How to assign raw data samples with labels?\n",
        "    - what are the features?\n",
        "        - raw sensor inputs?\n",
        "        - filtered with Kalman Filter?\n",
        "    - what is the target?\n",
        "    - target label (a letter) corresponds with numpy array of setpoints for drone "
      ]
    },
    {
      "cell_type": "markdown",
      "metadata": {
        "id": "o4yPN8da6KKD",
        "colab_type": "text"
      },
      "source": [
        "![image.png](attachment:image.png)"
      ]
    },
    {
      "cell_type": "markdown",
      "metadata": {
        "id": "paKXgNux6KKF",
        "colab_type": "text"
      },
      "source": [
        "###  IMU Data Reading\n",
        "\n",
        "In  our  project,  the  user wears the glove and performs one of four gesture patterns. We  use  the  Arduino Nano, IMU sensor MPU-6050 and flex sensor,  shown  in  Figure 2 , as our data input source.  \n",
        "\n",
        "When flex sensor bends more than some threshold - data recording starts, when flex sensor is relaxed - data recording stops. To prevent drift of IMU readings we perform automatic reset before each new recording.\n",
        "\n",
        "IMU provides us with 6 degree of freedom sensor readings\n",
        "    - gyroscopes\n",
        "    - accelerometers \n",
        "Inputs  from  IMU  are  streaming  to  local  PC through Arduino which is connected by USB\n",
        "\n",
        "In order for the dataset to be more variative, non-uniform and robust to noise gestures we recorded data:\n",
        "    - clock-wise\n",
        "    - counterclock-wise\n",
        "    - at different pitch-roll angle\n",
        "    - upside-down\n",
        "    - using 5 different hands for larger range of motions\n",
        "    - moving with different speed"
      ]
    },
    {
      "cell_type": "markdown",
      "metadata": {
        "id": "v-TstO-76KKH",
        "colab_type": "text"
      },
      "source": [
        "### Training Data Collection\n",
        "\n",
        "For each of the letters [S, k, o, l] we collect 100 [?] sets of data samples manually. Each data sample is a sequence of \n",
        "    - raw IMU sensor readings? (6 features)\n",
        "    - Kalman-filtered? (3 features)\n",
        "that has a pre-defined start and ending time. We also include a label describing the gesture pattern for each data sample. \n",
        "\n",
        "For the first iteration of the project, the proposed algorithm should map 4 input gestures to 4 letters, which correspond to 4 sets of flight setpoints."
      ]
    },
    {
      "cell_type": "markdown",
      "metadata": {
        "id": "jcu1laet6KKJ",
        "colab_type": "text"
      },
      "source": [
        "### Data Pre-Processing and Feature Extraction\n",
        "\n",
        "To classify a specific gesture pattern accurately, we need to take into account of both the pose and the position of glove.\n",
        "\n",
        "- we normalize the gyroscope and accelerometer inputs\n",
        "- we process all our input sequences to be the same length by sampling within the start-end window\n",
        "- we create a synthetic data with transform operators and inversing order of the original recordings (for [x, y, z])\n",
        "-  each of our input data sample is a sequence of ___ dimensional feature arrays representing the status of the glove at a specific time step"
      ]
    },
    {
      "cell_type": "markdown",
      "metadata": {
        "id": "9Nkn-Ggk6KKK",
        "colab_type": "text"
      },
      "source": [
        "### Training classifier\n",
        "\n",
        "- use dimension reduction?\n",
        "- "
      ]
    },
    {
      "cell_type": "markdown",
      "metadata": {
        "id": "9_LM6fk_6KKM",
        "colab_type": "text"
      },
      "source": [
        "### Arduino Software\n",
        "\n",
        "- module responsible for writing data "
      ]
    },
    {
      "cell_type": "markdown",
      "metadata": {
        "id": "Q64u-UAD6KKO",
        "colab_type": "text"
      },
      "source": [
        "### The Drone part\n",
        "\n",
        "these setpoints need to be sent to drone to follow this path\n",
        "\n",
        "with numpy (x, y z) array make a drone to fly through these setponts (Roman)\n",
        "\n",
        "control LED while flying\n",
        "\n",
        "record the drone flight\n",
        "\n",
        "Input: recorded gestures / path from glove with IMU\n",
        "\n",
        "Output: drone light-painting the letter / word\n"
      ]
    },
    {
      "cell_type": "markdown",
      "metadata": {
        "id": "H9ZoLFoA6KKP",
        "colab_type": "text"
      },
      "source": [
        "### Improvements\n",
        "\n",
        "- Recognize fake gestures?"
      ]
    },
    {
      "cell_type": "markdown",
      "metadata": {
        "id": "85NGAZSC6KKQ",
        "colab_type": "text"
      },
      "source": [
        "# Let's begin"
      ]
    },
    {
      "cell_type": "markdown",
      "metadata": {
        "id": "SpgZvhu36KKT",
        "colab_type": "text"
      },
      "source": [
        "#### Import libs"
      ]
    },
    {
      "cell_type": "code",
      "metadata": {
        "id": "jAQWoAPQ6KKU",
        "colab_type": "code",
        "colab": {}
      },
      "source": [
        "import numpy as np\n",
        "import pandas as pd\n",
        "from matplotlib import pyplot as plt\n",
        "import seaborn as sns\n",
        "import seaborn as sns\n",
        "from scipy import signal\n",
        "\n",
        "sns.set()\n",
        "%matplotlib inline\n",
        "\n",
        "# ignore FutureWarning from sklearn\n",
        "from warnings import simplefilter\n",
        "simplefilter(action='ignore', category=FutureWarning)\n",
        "\n",
        "# display pandas results to 3 decimal points, not in scientific notation\n",
        "pd.set_option('display.float_format', lambda x: '%.3f' % x)"
      ],
      "execution_count": 0,
      "outputs": []
    },
    {
      "cell_type": "markdown",
      "metadata": {
        "id": "mvYFoR1s6KKa",
        "colab_type": "text"
      },
      "source": [
        "#### Read an example of the data"
      ]
    },
    {
      "cell_type": "code",
      "metadata": {
        "id": "nq81YCyuQYYP",
        "colab_type": "code",
        "outputId": "14fb4f3d-462f-453c-9551-ca74a5a00ece",
        "colab": {
          "base_uri": "https://localhost:8080/",
          "height": 35
        }
      },
      "source": [
        ""
      ],
      "execution_count": 0,
      "outputs": [
        {
          "output_type": "stream",
          "text": [
            "['/content/s2.csv', '/content/s1.csv']\n"
          ],
          "name": "stdout"
        }
      ]
    },
    {
      "cell_type": "code",
      "metadata": {
        "id": "N10a9yo9N_g_",
        "colab_type": "code",
        "colab": {}
      },
      "source": [
        "# from google.colab import drive\n",
        "# drive.mount('/content/drive')\n",
        "\n",
        "# ! ls /content\n",
        "\n"
      ],
      "execution_count": 0,
      "outputs": []
    },
    {
      "cell_type": "code",
      "metadata": {
        "id": "tauJW2QQlLmP",
        "colab_type": "code",
        "outputId": "6366b110-4595-4f3d-d5c6-81c4ab0fa00a",
        "colab": {
          "base_uri": "https://localhost:8080/",
          "height": 206
        }
      },
      "source": [
        "data = pd.read_csv('s1.csv')\n",
        "data.columns = ['Acc_x', 'Acc_y', 'Acc_z']\n",
        "data.head()"
      ],
      "execution_count": 0,
      "outputs": [
        {
          "output_type": "execute_result",
          "data": {
            "text/html": [
              "<div>\n",
              "<style scoped>\n",
              "    .dataframe tbody tr th:only-of-type {\n",
              "        vertical-align: middle;\n",
              "    }\n",
              "\n",
              "    .dataframe tbody tr th {\n",
              "        vertical-align: top;\n",
              "    }\n",
              "\n",
              "    .dataframe thead th {\n",
              "        text-align: right;\n",
              "    }\n",
              "</style>\n",
              "<table border=\"1\" class=\"dataframe\">\n",
              "  <thead>\n",
              "    <tr style=\"text-align: right;\">\n",
              "      <th></th>\n",
              "      <th>Acc_x</th>\n",
              "      <th>Acc_y</th>\n",
              "      <th>Acc_z</th>\n",
              "    </tr>\n",
              "  </thead>\n",
              "  <tbody>\n",
              "    <tr>\n",
              "      <th>0</th>\n",
              "      <td>-5396</td>\n",
              "      <td>-628</td>\n",
              "      <td>14028</td>\n",
              "    </tr>\n",
              "    <tr>\n",
              "      <th>1</th>\n",
              "      <td>-4912</td>\n",
              "      <td>-24</td>\n",
              "      <td>14032</td>\n",
              "    </tr>\n",
              "    <tr>\n",
              "      <th>2</th>\n",
              "      <td>-5196</td>\n",
              "      <td>572</td>\n",
              "      <td>15120</td>\n",
              "    </tr>\n",
              "    <tr>\n",
              "      <th>3</th>\n",
              "      <td>-6132</td>\n",
              "      <td>2052</td>\n",
              "      <td>15384</td>\n",
              "    </tr>\n",
              "    <tr>\n",
              "      <th>4</th>\n",
              "      <td>-7356</td>\n",
              "      <td>2352</td>\n",
              "      <td>14880</td>\n",
              "    </tr>\n",
              "  </tbody>\n",
              "</table>\n",
              "</div>"
            ],
            "text/plain": [
              "   Acc_x  Acc_y  Acc_z\n",
              "0  -5396   -628  14028\n",
              "1  -4912    -24  14032\n",
              "2  -5196    572  15120\n",
              "3  -6132   2052  15384\n",
              "4  -7356   2352  14880"
            ]
          },
          "metadata": {
            "tags": []
          },
          "execution_count": 187
        }
      ]
    },
    {
      "cell_type": "code",
      "metadata": {
        "id": "tpdvareOEq8p",
        "colab_type": "code",
        "outputId": "acc6bbfc-8e8b-4a85-bf71-c0f8d8ae6d72",
        "colab": {
          "base_uri": "https://localhost:8080/",
          "height": 35
        }
      },
      "source": [
        "data.shape"
      ],
      "execution_count": 0,
      "outputs": [
        {
          "output_type": "execute_result",
          "data": {
            "text/plain": [
              "(72, 3)"
            ]
          },
          "metadata": {
            "tags": []
          },
          "execution_count": 188
        }
      ]
    },
    {
      "cell_type": "markdown",
      "metadata": {
        "id": "3kYM7_DS6KKf",
        "colab_type": "text"
      },
      "source": [
        "#### Draw raw data"
      ]
    },
    {
      "cell_type": "code",
      "metadata": {
        "id": "npmuFtLe6KKg",
        "colab_type": "code",
        "outputId": "9fea36ca-6299-4b52-b860-5aacf7526502",
        "colab": {
          "base_uri": "https://localhost:8080/",
          "height": 464
        }
      },
      "source": [
        "sns.set(style=\"ticks\", palette=\"pastel\", rc={'figure.figsize':(14,7)})\n",
        "\n",
        "for column in data.columns:\n",
        "  plt.plot(data[column])\n",
        "  \n",
        "plt.legend(loc='best')\n",
        "plt.ylabel(r'$magnitude, \\frac{g}{g_0}$')\n",
        "plt.xlabel('timesteps')\n",
        "plt.title('Accelerometer')\n",
        "plt.show()"
      ],
      "execution_count": 0,
      "outputs": [
        {
          "output_type": "display_data",
          "data": {
            "image/png": "[encoded data removed]",
            "text/plain": [
              "<Figure size 1008x504 with 1 Axes>"
            ]
          },
          "metadata": {
            "tags": []
          }
        }
      ]
    },
    {
      "cell_type": "markdown",
      "metadata": {
        "id": "qP47iun2dWQ1",
        "colab_type": "text"
      },
      "source": [
        "#### Draw smoothed data"
      ]
    },
    {
      "cell_type": "code",
      "metadata": {
        "id": "2NxnglO6dFYQ",
        "colab_type": "code",
        "outputId": "610d6a77-940f-4ff0-af1d-443c06150e27",
        "colab": {
          "base_uri": "https://localhost:8080/",
          "height": 447
        }
      },
      "source": [
        "for i, val in enumerate(data.columns):\n",
        "  plt.plot(signal.filtfilt(*signal.butter(3, 0.2), data.iloc[:, i]))\n",
        "  plt.plot(data.iloc[:, i])\n",
        "  plt.scatter(range(len(data.iloc[:, i])), data.iloc[:, i])\n",
        "\n",
        "plt.title(\"Smoothed data\")\n",
        "plt.legend(loc='best');"
      ],
      "execution_count": 0,
      "outputs": [
        {
          "output_type": "display_data",
          "data": {
            "image/png": "[encoded data removed]",
            "text/plain": [
              "<Figure size 1008x504 with 1 Axes>"
            ]
          },
          "metadata": {
            "tags": []
          }
        }
      ]
    },
    {
      "cell_type": "markdown",
      "metadata": {
        "id": "kZCpzplA6KKj",
        "colab_type": "text"
      },
      "source": [
        "#### Filter data and make each sequence the same length"
      ]
    },
    {
      "cell_type": "markdown",
      "metadata": {
        "id": "YAYUPMO3BVbx",
        "colab_type": "text"
      },
      "source": [
        "Filter the accellerometers signal using a low pass filter. This removes any noise that is not caused by slow moving arm."
      ]
    },
    {
      "cell_type": "markdown",
      "metadata": {
        "id": "GO3Nvu3AVE6v",
        "colab_type": "text"
      },
      "source": [
        ""
      ]
    },
    {
      "cell_type": "code",
      "metadata": {
        "id": "qVWk_TG_babA",
        "colab_type": "code",
        "colab": {}
      },
      "source": [
        "def discretize_data(data, samples):\n",
        "    # width = round(len(data) / samples)\n",
        "    width = int(len(data) / samples)\n",
        "\n",
        "    # print('width =', width)\n",
        "    output = [np.mean(data[i*width : (i+1)*width]) for i in range(samples)]\n",
        "    return output\n",
        "\n",
        "def smooth_data(X, a, b):\n",
        "  return signal.filtfilt(*signal.butter(a, b), X)"
      ],
      "execution_count": 0,
      "outputs": []
    },
    {
      "cell_type": "markdown",
      "metadata": {
        "id": "7waPT7HG6KKx",
        "colab_type": "text"
      },
      "source": [
        "#### Draw equalized filtered data"
      ]
    },
    {
      "cell_type": "code",
      "metadata": {
        "id": "KoRCVpE66KKy",
        "colab_type": "code",
        "outputId": "10c7c7f8-daad-4d3d-d5ee-13d958045d0c",
        "colab": {
          "base_uri": "https://localhost:8080/",
          "height": 437
        }
      },
      "source": [
        "for i, val in enumerate(data.columns):\n",
        "  plt.plot(df.iloc[:, i])\n",
        "\n",
        "plt.legend(loc='best');"
      ],
      "execution_count": 0,
      "outputs": [
        {
          "output_type": "display_data",
          "data": {
            "image/png": "[encoded data removed]",
            "text/plain": [
              "<Figure size 1008x504 with 1 Axes>"
            ]
          },
          "metadata": {
            "tags": []
          }
        }
      ]
    },
    {
      "cell_type": "markdown",
      "metadata": {
        "id": "wjUcf22eXmdX",
        "colab_type": "text"
      },
      "source": [
        "#### Create array of features (for each gesture we have separate csv file)"
      ]
    },
    {
      "cell_type": "code",
      "metadata": {
        "id": "HZcDmo0MSVvJ",
        "colab_type": "code",
        "outputId": "958741c3-f6c7-4248-8e5a-f714ae65a370",
        "colab": {
          "base_uri": "https://localhost:8080/",
          "height": 256
        }
      },
      "source": [
        "import glob\n",
        "import pandas as pd\n",
        "\n",
        "files = glob.glob('/content/drive/My Drive/Colab/data_set_o/*.csv')\n",
        "# print(files)\n",
        "\n",
        "dataset = pd.DataFrame()\n",
        "\n",
        "for i, val in enumerate(files):\n",
        "    data = pd.read_csv(val)\n",
        "    # print(data.shape)\n",
        "    data.columns = ['Acc_x', 'Acc_y', 'Acc_z']\n",
        "    # print(i, val[39])\n",
        "    letter = pd.Series(val[41], index=['letter'])\n",
        "\n",
        "    # data.drop(data.tail(60).index, inplace=True) # drop last n rows\n",
        "\n",
        "    df = pd.DataFrame()\n",
        "    for column in data.columns:\n",
        "        smooth = smooth_data(data[column], 3, 0.2)\n",
        "        discrete = discretize_data(smooth, 60)\n",
        "        df[column] = discrete\n",
        "\n",
        "    gesture = pd.concat([df[\"Acc_x\"], df[\"Acc_y\"], df[\"Acc_z\"]], ignore_index=True)\n",
        "    # gesture = pd.concat([data[\"Acc_x\"], data[\"Acc_y\"], data[\"Acc_z\"]], ignore_index=True)\n",
        "\n",
        "    gesture = pd.concat([letter, gesture])\n",
        "    dataset = dataset.append(gesture, ignore_index=True)\n",
        "\n",
        "# dataset = dataset.transpose()\n",
        "# dataset.set_index('letter', inplace=True)\n",
        "\n",
        "dataset.head()"
      ],
      "execution_count": 5,
      "outputs": [
        {
          "output_type": "execute_result",
          "data": {
            "text/html": [
              "<div>\n",
              "<style scoped>\n",
              "    .dataframe tbody tr th:only-of-type {\n",
              "        vertical-align: middle;\n",
              "    }\n",
              "\n",
              "    .dataframe tbody tr th {\n",
              "        vertical-align: top;\n",
              "    }\n",
              "\n",
              "    .dataframe thead th {\n",
              "        text-align: right;\n",
              "    }\n",
              "</style>\n",
              "<table border=\"1\" class=\"dataframe\">\n",
              "  <thead>\n",
              "    <tr style=\"text-align: right;\">\n",
              "      <th></th>\n",
              "      <th>0</th>\n",
              "      <th>1</th>\n",
              "      <th>2</th>\n",
              "      <th>3</th>\n",
              "      <th>4</th>\n",
              "      <th>5</th>\n",
              "      <th>6</th>\n",
              "      <th>7</th>\n",
              "      <th>8</th>\n",
              "      <th>9</th>\n",
              "      <th>10</th>\n",
              "      <th>11</th>\n",
              "      <th>12</th>\n",
              "      <th>13</th>\n",
              "      <th>14</th>\n",
              "      <th>15</th>\n",
              "      <th>16</th>\n",
              "      <th>17</th>\n",
              "      <th>18</th>\n",
              "      <th>19</th>\n",
              "      <th>20</th>\n",
              "      <th>21</th>\n",
              "      <th>22</th>\n",
              "      <th>23</th>\n",
              "      <th>24</th>\n",
              "      <th>25</th>\n",
              "      <th>26</th>\n",
              "      <th>27</th>\n",
              "      <th>28</th>\n",
              "      <th>29</th>\n",
              "      <th>30</th>\n",
              "      <th>31</th>\n",
              "      <th>32</th>\n",
              "      <th>33</th>\n",
              "      <th>34</th>\n",
              "      <th>35</th>\n",
              "      <th>36</th>\n",
              "      <th>37</th>\n",
              "      <th>38</th>\n",
              "      <th>39</th>\n",
              "      <th>...</th>\n",
              "      <th>141</th>\n",
              "      <th>142</th>\n",
              "      <th>143</th>\n",
              "      <th>144</th>\n",
              "      <th>145</th>\n",
              "      <th>146</th>\n",
              "      <th>147</th>\n",
              "      <th>148</th>\n",
              "      <th>149</th>\n",
              "      <th>150</th>\n",
              "      <th>151</th>\n",
              "      <th>152</th>\n",
              "      <th>153</th>\n",
              "      <th>154</th>\n",
              "      <th>155</th>\n",
              "      <th>156</th>\n",
              "      <th>157</th>\n",
              "      <th>158</th>\n",
              "      <th>159</th>\n",
              "      <th>160</th>\n",
              "      <th>161</th>\n",
              "      <th>162</th>\n",
              "      <th>163</th>\n",
              "      <th>164</th>\n",
              "      <th>165</th>\n",
              "      <th>166</th>\n",
              "      <th>167</th>\n",
              "      <th>168</th>\n",
              "      <th>169</th>\n",
              "      <th>170</th>\n",
              "      <th>171</th>\n",
              "      <th>172</th>\n",
              "      <th>173</th>\n",
              "      <th>174</th>\n",
              "      <th>175</th>\n",
              "      <th>176</th>\n",
              "      <th>177</th>\n",
              "      <th>178</th>\n",
              "      <th>179</th>\n",
              "      <th>letter</th>\n",
              "    </tr>\n",
              "  </thead>\n",
              "  <tbody>\n",
              "    <tr>\n",
              "      <th>0</th>\n",
              "      <td>-4712.956</td>\n",
              "      <td>-3922.361</td>\n",
              "      <td>-3284.463</td>\n",
              "      <td>-2926.307</td>\n",
              "      <td>-2922.512</td>\n",
              "      <td>-3280.013</td>\n",
              "      <td>-3946.297</td>\n",
              "      <td>-4845.511</td>\n",
              "      <td>-5910.837</td>\n",
              "      <td>-7077.013</td>\n",
              "      <td>-8246.205</td>\n",
              "      <td>-9276.046</td>\n",
              "      <td>-10010.541</td>\n",
              "      <td>-10327.197</td>\n",
              "      <td>-10169.140</td>\n",
              "      <td>-9555.456</td>\n",
              "      <td>-8575.694</td>\n",
              "      <td>-7374.968</td>\n",
              "      <td>-6129.765</td>\n",
              "      <td>-5007.371</td>\n",
              "      <td>-4117.232</td>\n",
              "      <td>-3484.713</td>\n",
              "      <td>-3065.140</td>\n",
              "      <td>-2785.156</td>\n",
              "      <td>-2587.579</td>\n",
              "      <td>-2459.697</td>\n",
              "      <td>-2432.654</td>\n",
              "      <td>-2555.981</td>\n",
              "      <td>-2865.421</td>\n",
              "      <td>-3357.031</td>\n",
              "      <td>-3970.225</td>\n",
              "      <td>-4587.294</td>\n",
              "      <td>-5059.304</td>\n",
              "      <td>-5252.998</td>\n",
              "      <td>-5098.864</td>\n",
              "      <td>-4618.808</td>\n",
              "      <td>-3921.076</td>\n",
              "      <td>-3167.487</td>\n",
              "      <td>-2530.115</td>\n",
              "      <td>-2151.861</td>\n",
              "      <td>...</td>\n",
              "      <td>15806.242</td>\n",
              "      <td>13749.767</td>\n",
              "      <td>11748.564</td>\n",
              "      <td>10269.863</td>\n",
              "      <td>9679.955</td>\n",
              "      <td>10172.500</td>\n",
              "      <td>11755.638</td>\n",
              "      <td>14276.155</td>\n",
              "      <td>17447.936</td>\n",
              "      <td>20874.861</td>\n",
              "      <td>24087.153</td>\n",
              "      <td>26614.548</td>\n",
              "      <td>28090.285</td>\n",
              "      <td>28341.894</td>\n",
              "      <td>27420.846</td>\n",
              "      <td>25558.716</td>\n",
              "      <td>23077.094</td>\n",
              "      <td>20294.589</td>\n",
              "      <td>17464.115</td>\n",
              "      <td>14748.567</td>\n",
              "      <td>12224.086</td>\n",
              "      <td>9899.274</td>\n",
              "      <td>7744.279</td>\n",
              "      <td>5722.254</td>\n",
              "      <td>3813.665</td>\n",
              "      <td>2028.172</td>\n",
              "      <td>403.141</td>\n",
              "      <td>-1008.689</td>\n",
              "      <td>-2150.695</td>\n",
              "      <td>-2955.691</td>\n",
              "      <td>-3320.117</td>\n",
              "      <td>-3085.526</td>\n",
              "      <td>-2056.264</td>\n",
              "      <td>-55.855</td>\n",
              "      <td>2996.238</td>\n",
              "      <td>7005.158</td>\n",
              "      <td>11638.042</td>\n",
              "      <td>16318.133</td>\n",
              "      <td>20321.839</td>\n",
              "      <td>s</td>\n",
              "    </tr>\n",
              "    <tr>\n",
              "      <th>1</th>\n",
              "      <td>-8212.806</td>\n",
              "      <td>-8097.251</td>\n",
              "      <td>-7950.739</td>\n",
              "      <td>-7709.253</td>\n",
              "      <td>-7301.971</td>\n",
              "      <td>-6703.684</td>\n",
              "      <td>-5977.267</td>\n",
              "      <td>-5303.444</td>\n",
              "      <td>-4970.352</td>\n",
              "      <td>-5277.689</td>\n",
              "      <td>-6376.701</td>\n",
              "      <td>-8147.555</td>\n",
              "      <td>-10197.571</td>\n",
              "      <td>-11972.495</td>\n",
              "      <td>-12921.976</td>\n",
              "      <td>-12664.283</td>\n",
              "      <td>-11103.685</td>\n",
              "      <td>-8466.908</td>\n",
              "      <td>-5247.771</td>\n",
              "      <td>-2070.061</td>\n",
              "      <td>490.903</td>\n",
              "      <td>2059.144</td>\n",
              "      <td>2525.509</td>\n",
              "      <td>2022.622</td>\n",
              "      <td>837.664</td>\n",
              "      <td>-690.446</td>\n",
              "      <td>-2251.369</td>\n",
              "      <td>-3607.491</td>\n",
              "      <td>-4607.448</td>\n",
              "      <td>-5181.511</td>\n",
              "      <td>-5332.431</td>\n",
              "      <td>-5131.301</td>\n",
              "      <td>-4717.107</td>\n",
              "      <td>-4284.044</td>\n",
              "      <td>-4037.855</td>\n",
              "      <td>-4126.745</td>\n",
              "      <td>-4588.807</td>\n",
              "      <td>-5360.253</td>\n",
              "      <td>-6337.328</td>\n",
              "      <td>-7433.444</td>\n",
              "      <td>...</td>\n",
              "      <td>14202.857</td>\n",
              "      <td>9966.887</td>\n",
              "      <td>6437.628</td>\n",
              "      <td>3729.267</td>\n",
              "      <td>1776.908</td>\n",
              "      <td>402.344</td>\n",
              "      <td>-593.671</td>\n",
              "      <td>-1351.617</td>\n",
              "      <td>-1923.924</td>\n",
              "      <td>-2306.344</td>\n",
              "      <td>-2500.854</td>\n",
              "      <td>-2559.660</td>\n",
              "      <td>-2571.485</td>\n",
              "      <td>-2587.698</td>\n",
              "      <td>-2526.315</td>\n",
              "      <td>-2115.726</td>\n",
              "      <td>-936.332</td>\n",
              "      <td>1421.119</td>\n",
              "      <td>5136.081</td>\n",
              "      <td>9995.531</td>\n",
              "      <td>15387.599</td>\n",
              "      <td>20458.997</td>\n",
              "      <td>24362.883</td>\n",
              "      <td>26501.340</td>\n",
              "      <td>26677.374</td>\n",
              "      <td>25103.127</td>\n",
              "      <td>22278.833</td>\n",
              "      <td>18823.509</td>\n",
              "      <td>15337.396</td>\n",
              "      <td>12319.335</td>\n",
              "      <td>10121.266</td>\n",
              "      <td>8924.713</td>\n",
              "      <td>8739.738</td>\n",
              "      <td>9430.305</td>\n",
              "      <td>10764.972</td>\n",
              "      <td>12482.479</td>\n",
              "      <td>14344.590</td>\n",
              "      <td>16144.706</td>\n",
              "      <td>17680.359</td>\n",
              "      <td>k</td>\n",
              "    </tr>\n",
              "    <tr>\n",
              "      <th>2</th>\n",
              "      <td>-2474.874</td>\n",
              "      <td>-3930.929</td>\n",
              "      <td>-5189.575</td>\n",
              "      <td>-6115.706</td>\n",
              "      <td>-6661.596</td>\n",
              "      <td>-6873.856</td>\n",
              "      <td>-6893.683</td>\n",
              "      <td>-6929.201</td>\n",
              "      <td>-7171.533</td>\n",
              "      <td>-7685.753</td>\n",
              "      <td>-8356.552</td>\n",
              "      <td>-8938.839</td>\n",
              "      <td>-9184.737</td>\n",
              "      <td>-8957.855</td>\n",
              "      <td>-8263.088</td>\n",
              "      <td>-7202.603</td>\n",
              "      <td>-5916.876</td>\n",
              "      <td>-4548.376</td>\n",
              "      <td>-3235.792</td>\n",
              "      <td>-2126.451</td>\n",
              "      <td>-1372.755</td>\n",
              "      <td>-1091.213</td>\n",
              "      <td>-1310.475</td>\n",
              "      <td>-1952.708</td>\n",
              "      <td>-2860.000</td>\n",
              "      <td>-3842.626</td>\n",
              "      <td>-4724.473</td>\n",
              "      <td>-5377.648</td>\n",
              "      <td>-5744.040</td>\n",
              "      <td>-5834.402</td>\n",
              "      <td>-5699.902</td>\n",
              "      <td>-5396.094</td>\n",
              "      <td>-4969.823</td>\n",
              "      <td>-4472.681</td>\n",
              "      <td>-3974.714</td>\n",
              "      <td>-3552.512</td>\n",
              "      <td>-3248.583</td>\n",
              "      <td>-3031.246</td>\n",
              "      <td>-2800.876</td>\n",
              "      <td>-2451.505</td>\n",
              "      <td>...</td>\n",
              "      <td>13278.243</td>\n",
              "      <td>11611.365</td>\n",
              "      <td>10289.658</td>\n",
              "      <td>9204.880</td>\n",
              "      <td>8156.617</td>\n",
              "      <td>6923.276</td>\n",
              "      <td>5356.102</td>\n",
              "      <td>3449.354</td>\n",
              "      <td>1344.244</td>\n",
              "      <td>-731.013</td>\n",
              "      <td>-2539.320</td>\n",
              "      <td>-3884.611</td>\n",
              "      <td>-4622.441</td>\n",
              "      <td>-4657.845</td>\n",
              "      <td>-3964.770</td>\n",
              "      <td>-2625.469</td>\n",
              "      <td>-843.964</td>\n",
              "      <td>1106.487</td>\n",
              "      <td>2989.088</td>\n",
              "      <td>4710.296</td>\n",
              "      <td>6373.678</td>\n",
              "      <td>8244.434</td>\n",
              "      <td>10625.394</td>\n",
              "      <td>13695.399</td>\n",
              "      <td>17384.659</td>\n",
              "      <td>21339.802</td>\n",
              "      <td>24991.309</td>\n",
              "      <td>27706.256</td>\n",
              "      <td>28986.380</td>\n",
              "      <td>28645.041</td>\n",
              "      <td>26885.919</td>\n",
              "      <td>24239.062</td>\n",
              "      <td>21376.165</td>\n",
              "      <td>18888.552</td>\n",
              "      <td>17129.088</td>\n",
              "      <td>16172.503</td>\n",
              "      <td>15876.126</td>\n",
              "      <td>15986.748</td>\n",
              "      <td>16242.324</td>\n",
              "      <td>O</td>\n",
              "    </tr>\n",
              "    <tr>\n",
              "      <th>3</th>\n",
              "      <td>-6142.225</td>\n",
              "      <td>-6646.381</td>\n",
              "      <td>-7002.834</td>\n",
              "      <td>-7160.023</td>\n",
              "      <td>-7185.571</td>\n",
              "      <td>-7217.116</td>\n",
              "      <td>-7381.216</td>\n",
              "      <td>-7731.557</td>\n",
              "      <td>-8232.761</td>\n",
              "      <td>-8784.897</td>\n",
              "      <td>-9265.309</td>\n",
              "      <td>-9568.316</td>\n",
              "      <td>-9635.206</td>\n",
              "      <td>-9468.904</td>\n",
              "      <td>-9129.412</td>\n",
              "      <td>-8707.240</td>\n",
              "      <td>-8276.249</td>\n",
              "      <td>-7853.775</td>\n",
              "      <td>-7400.716</td>\n",
              "      <td>-6850.672</td>\n",
              "      <td>-6139.801</td>\n",
              "      <td>-5235.480</td>\n",
              "      <td>-4164.899</td>\n",
              "      <td>-3027.566</td>\n",
              "      <td>-1982.499</td>\n",
              "      <td>-1215.291</td>\n",
              "      <td>-889.436</td>\n",
              "      <td>-1089.771</td>\n",
              "      <td>-1779.369</td>\n",
              "      <td>-2793.507</td>\n",
              "      <td>-3883.676</td>\n",
              "      <td>-4804.947</td>\n",
              "      <td>-5406.993</td>\n",
              "      <td>-5674.761</td>\n",
              "      <td>-5702.532</td>\n",
              "      <td>-5631.338</td>\n",
              "      <td>-5583.463</td>\n",
              "      <td>-5614.156</td>\n",
              "      <td>-5697.740</td>\n",
              "      <td>-5753.883</td>\n",
              "      <td>...</td>\n",
              "      <td>19148.825</td>\n",
              "      <td>18361.695</td>\n",
              "      <td>17378.017</td>\n",
              "      <td>16303.387</td>\n",
              "      <td>15186.731</td>\n",
              "      <td>14004.281</td>\n",
              "      <td>12678.386</td>\n",
              "      <td>11115.558</td>\n",
              "      <td>9250.417</td>\n",
              "      <td>7084.562</td>\n",
              "      <td>4704.276</td>\n",
              "      <td>2267.215</td>\n",
              "      <td>-32.394</td>\n",
              "      <td>-2002.342</td>\n",
              "      <td>-3485.243</td>\n",
              "      <td>-4383.525</td>\n",
              "      <td>-4674.764</td>\n",
              "      <td>-4412.368</td>\n",
              "      <td>-3707.849</td>\n",
              "      <td>-2699.557</td>\n",
              "      <td>-1520.802</td>\n",
              "      <td>-280.340</td>\n",
              "      <td>940.781</td>\n",
              "      <td>2085.306</td>\n",
              "      <td>3123.702</td>\n",
              "      <td>4069.795</td>\n",
              "      <td>4992.744</td>\n",
              "      <td>6004.980</td>\n",
              "      <td>7225.430</td>\n",
              "      <td>8739.097</td>\n",
              "      <td>10570.772</td>\n",
              "      <td>12673.508</td>\n",
              "      <td>14929.346</td>\n",
              "      <td>17163.639</td>\n",
              "      <td>19168.360</td>\n",
              "      <td>20731.676</td>\n",
              "      <td>21680.126</td>\n",
              "      <td>21924.398</td>\n",
              "      <td>21484.394</td>\n",
              "      <td>O</td>\n",
              "    </tr>\n",
              "    <tr>\n",
              "      <th>4</th>\n",
              "      <td>-862.439</td>\n",
              "      <td>-2426.047</td>\n",
              "      <td>-3651.333</td>\n",
              "      <td>-4362.161</td>\n",
              "      <td>-4594.833</td>\n",
              "      <td>-4543.702</td>\n",
              "      <td>-4460.781</td>\n",
              "      <td>-4555.398</td>\n",
              "      <td>-4916.912</td>\n",
              "      <td>-5489.399</td>\n",
              "      <td>-6109.499</td>\n",
              "      <td>-6581.182</td>\n",
              "      <td>-6748.767</td>\n",
              "      <td>-6541.485</td>\n",
              "      <td>-5983.268</td>\n",
              "      <td>-5177.053</td>\n",
              "      <td>-4271.348</td>\n",
              "      <td>-3413.676</td>\n",
              "      <td>-2707.536</td>\n",
              "      <td>-2196.414</td>\n",
              "      <td>-1880.514</td>\n",
              "      <td>-1747.979</td>\n",
              "      <td>-1796.774</td>\n",
              "      <td>-2034.852</td>\n",
              "      <td>-2461.238</td>\n",
              "      <td>-3041.877</td>\n",
              "      <td>-3697.981</td>\n",
              "      <td>-4316.695</td>\n",
              "      <td>-4778.585</td>\n",
              "      <td>-4990.545</td>\n",
              "      <td>-4916.959</td>\n",
              "      <td>-4598.199</td>\n",
              "      <td>-4141.540</td>\n",
              "      <td>-3686.151</td>\n",
              "      <td>-3362.545</td>\n",
              "      <td>-3262.442</td>\n",
              "      <td>-3422.837</td>\n",
              "      <td>-3826.378</td>\n",
              "      <td>-4418.389</td>\n",
              "      <td>-5132.691</td>\n",
              "      <td>...</td>\n",
              "      <td>13862.757</td>\n",
              "      <td>11898.441</td>\n",
              "      <td>10686.956</td>\n",
              "      <td>10530.427</td>\n",
              "      <td>11518.643</td>\n",
              "      <td>13512.409</td>\n",
              "      <td>16174.904</td>\n",
              "      <td>19040.670</td>\n",
              "      <td>21611.909</td>\n",
              "      <td>23463.244</td>\n",
              "      <td>24328.451</td>\n",
              "      <td>24144.840</td>\n",
              "      <td>23040.865</td>\n",
              "      <td>21271.066</td>\n",
              "      <td>19126.091</td>\n",
              "      <td>16858.981</td>\n",
              "      <td>14658.052</td>\n",
              "      <td>12661.863</td>\n",
              "      <td>10979.613</td>\n",
              "      <td>9684.332</td>\n",
              "      <td>8780.598</td>\n",
              "      <td>8177.308</td>\n",
              "      <td>7698.727</td>\n",
              "      <td>7142.435</td>\n",
              "      <td>6355.666</td>\n",
              "      <td>5284.863</td>\n",
              "      <td>3975.333</td>\n",
              "      <td>2536.577</td>\n",
              "      <td>1106.878</td>\n",
              "      <td>-164.671</td>\n",
              "      <td>-1125.503</td>\n",
              "      <td>-1627.990</td>\n",
              "      <td>-1537.087</td>\n",
              "      <td>-729.687</td>\n",
              "      <td>903.359</td>\n",
              "      <td>3420.875</td>\n",
              "      <td>6749.214</td>\n",
              "      <td>10598.540</td>\n",
              "      <td>14451.191</td>\n",
              "      <td>s</td>\n",
              "    </tr>\n",
              "  </tbody>\n",
              "</table>\n",
              "<p>5 rows × 181 columns</p>\n",
              "</div>"
            ],
            "text/plain": [
              "          0         1         2         3  ...       177       178       179  letter\n",
              "0 -4712.956 -3922.361 -3284.463 -2926.307  ... 11638.042 16318.133 20321.839       s\n",
              "1 -8212.806 -8097.251 -7950.739 -7709.253  ... 14344.590 16144.706 17680.359       k\n",
              "2 -2474.874 -3930.929 -5189.575 -6115.706  ... 15876.126 15986.748 16242.324       O\n",
              "3 -6142.225 -6646.381 -7002.834 -7160.023  ... 21680.126 21924.398 21484.394       O\n",
              "4  -862.439 -2426.047 -3651.333 -4362.161  ...  6749.214 10598.540 14451.191       s\n",
              "\n",
              "[5 rows x 181 columns]"
            ]
          },
          "metadata": {
            "tags": []
          },
          "execution_count": 5
        }
      ]
    },
    {
      "cell_type": "code",
      "metadata": {
        "id": "mHcm1qF5kj0F",
        "colab_type": "code",
        "colab": {
          "base_uri": "https://localhost:8080/",
          "height": 124
        },
        "outputId": "f776e606-b66a-4fcc-a972-850a177170d3"
      },
      "source": [
        "y = dataset.iloc[:, -1]\n",
        "y.head()"
      ],
      "execution_count": 6,
      "outputs": [
        {
          "output_type": "execute_result",
          "data": {
            "text/plain": [
              "0    s\n",
              "1    k\n",
              "2    O\n",
              "3    O\n",
              "4    s\n",
              "Name: letter, dtype: object"
            ]
          },
          "metadata": {
            "tags": []
          },
          "execution_count": 6
        }
      ]
    },
    {
      "cell_type": "code",
      "metadata": {
        "id": "iJWgOKRIktRv",
        "colab_type": "code",
        "colab": {
          "base_uri": "https://localhost:8080/",
          "height": 256
        },
        "outputId": "325aac95-07c9-4dc1-b787-fad9618fbf69"
      },
      "source": [
        "X = dataset.iloc[:, 0:-1]\n",
        "X.head()"
      ],
      "execution_count": 7,
      "outputs": [
        {
          "output_type": "execute_result",
          "data": {
            "text/html": [
              "<div>\n",
              "<style scoped>\n",
              "    .dataframe tbody tr th:only-of-type {\n",
              "        vertical-align: middle;\n",
              "    }\n",
              "\n",
              "    .dataframe tbody tr th {\n",
              "        vertical-align: top;\n",
              "    }\n",
              "\n",
              "    .dataframe thead th {\n",
              "        text-align: right;\n",
              "    }\n",
              "</style>\n",
              "<table border=\"1\" class=\"dataframe\">\n",
              "  <thead>\n",
              "    <tr style=\"text-align: right;\">\n",
              "      <th></th>\n",
              "      <th>0</th>\n",
              "      <th>1</th>\n",
              "      <th>2</th>\n",
              "      <th>3</th>\n",
              "      <th>4</th>\n",
              "      <th>5</th>\n",
              "      <th>6</th>\n",
              "      <th>7</th>\n",
              "      <th>8</th>\n",
              "      <th>9</th>\n",
              "      <th>10</th>\n",
              "      <th>11</th>\n",
              "      <th>12</th>\n",
              "      <th>13</th>\n",
              "      <th>14</th>\n",
              "      <th>15</th>\n",
              "      <th>16</th>\n",
              "      <th>17</th>\n",
              "      <th>18</th>\n",
              "      <th>19</th>\n",
              "      <th>20</th>\n",
              "      <th>21</th>\n",
              "      <th>22</th>\n",
              "      <th>23</th>\n",
              "      <th>24</th>\n",
              "      <th>25</th>\n",
              "      <th>26</th>\n",
              "      <th>27</th>\n",
              "      <th>28</th>\n",
              "      <th>29</th>\n",
              "      <th>30</th>\n",
              "      <th>31</th>\n",
              "      <th>32</th>\n",
              "      <th>33</th>\n",
              "      <th>34</th>\n",
              "      <th>35</th>\n",
              "      <th>36</th>\n",
              "      <th>37</th>\n",
              "      <th>38</th>\n",
              "      <th>39</th>\n",
              "      <th>...</th>\n",
              "      <th>140</th>\n",
              "      <th>141</th>\n",
              "      <th>142</th>\n",
              "      <th>143</th>\n",
              "      <th>144</th>\n",
              "      <th>145</th>\n",
              "      <th>146</th>\n",
              "      <th>147</th>\n",
              "      <th>148</th>\n",
              "      <th>149</th>\n",
              "      <th>150</th>\n",
              "      <th>151</th>\n",
              "      <th>152</th>\n",
              "      <th>153</th>\n",
              "      <th>154</th>\n",
              "      <th>155</th>\n",
              "      <th>156</th>\n",
              "      <th>157</th>\n",
              "      <th>158</th>\n",
              "      <th>159</th>\n",
              "      <th>160</th>\n",
              "      <th>161</th>\n",
              "      <th>162</th>\n",
              "      <th>163</th>\n",
              "      <th>164</th>\n",
              "      <th>165</th>\n",
              "      <th>166</th>\n",
              "      <th>167</th>\n",
              "      <th>168</th>\n",
              "      <th>169</th>\n",
              "      <th>170</th>\n",
              "      <th>171</th>\n",
              "      <th>172</th>\n",
              "      <th>173</th>\n",
              "      <th>174</th>\n",
              "      <th>175</th>\n",
              "      <th>176</th>\n",
              "      <th>177</th>\n",
              "      <th>178</th>\n",
              "      <th>179</th>\n",
              "    </tr>\n",
              "  </thead>\n",
              "  <tbody>\n",
              "    <tr>\n",
              "      <th>0</th>\n",
              "      <td>-4712.956</td>\n",
              "      <td>-3922.361</td>\n",
              "      <td>-3284.463</td>\n",
              "      <td>-2926.307</td>\n",
              "      <td>-2922.512</td>\n",
              "      <td>-3280.013</td>\n",
              "      <td>-3946.297</td>\n",
              "      <td>-4845.511</td>\n",
              "      <td>-5910.837</td>\n",
              "      <td>-7077.013</td>\n",
              "      <td>-8246.205</td>\n",
              "      <td>-9276.046</td>\n",
              "      <td>-10010.541</td>\n",
              "      <td>-10327.197</td>\n",
              "      <td>-10169.140</td>\n",
              "      <td>-9555.456</td>\n",
              "      <td>-8575.694</td>\n",
              "      <td>-7374.968</td>\n",
              "      <td>-6129.765</td>\n",
              "      <td>-5007.371</td>\n",
              "      <td>-4117.232</td>\n",
              "      <td>-3484.713</td>\n",
              "      <td>-3065.140</td>\n",
              "      <td>-2785.156</td>\n",
              "      <td>-2587.579</td>\n",
              "      <td>-2459.697</td>\n",
              "      <td>-2432.654</td>\n",
              "      <td>-2555.981</td>\n",
              "      <td>-2865.421</td>\n",
              "      <td>-3357.031</td>\n",
              "      <td>-3970.225</td>\n",
              "      <td>-4587.294</td>\n",
              "      <td>-5059.304</td>\n",
              "      <td>-5252.998</td>\n",
              "      <td>-5098.864</td>\n",
              "      <td>-4618.808</td>\n",
              "      <td>-3921.076</td>\n",
              "      <td>-3167.487</td>\n",
              "      <td>-2530.115</td>\n",
              "      <td>-2151.861</td>\n",
              "      <td>...</td>\n",
              "      <td>17465.978</td>\n",
              "      <td>15806.242</td>\n",
              "      <td>13749.767</td>\n",
              "      <td>11748.564</td>\n",
              "      <td>10269.863</td>\n",
              "      <td>9679.955</td>\n",
              "      <td>10172.500</td>\n",
              "      <td>11755.638</td>\n",
              "      <td>14276.155</td>\n",
              "      <td>17447.936</td>\n",
              "      <td>20874.861</td>\n",
              "      <td>24087.153</td>\n",
              "      <td>26614.548</td>\n",
              "      <td>28090.285</td>\n",
              "      <td>28341.894</td>\n",
              "      <td>27420.846</td>\n",
              "      <td>25558.716</td>\n",
              "      <td>23077.094</td>\n",
              "      <td>20294.589</td>\n",
              "      <td>17464.115</td>\n",
              "      <td>14748.567</td>\n",
              "      <td>12224.086</td>\n",
              "      <td>9899.274</td>\n",
              "      <td>7744.279</td>\n",
              "      <td>5722.254</td>\n",
              "      <td>3813.665</td>\n",
              "      <td>2028.172</td>\n",
              "      <td>403.141</td>\n",
              "      <td>-1008.689</td>\n",
              "      <td>-2150.695</td>\n",
              "      <td>-2955.691</td>\n",
              "      <td>-3320.117</td>\n",
              "      <td>-3085.526</td>\n",
              "      <td>-2056.264</td>\n",
              "      <td>-55.855</td>\n",
              "      <td>2996.238</td>\n",
              "      <td>7005.158</td>\n",
              "      <td>11638.042</td>\n",
              "      <td>16318.133</td>\n",
              "      <td>20321.839</td>\n",
              "    </tr>\n",
              "    <tr>\n",
              "      <th>1</th>\n",
              "      <td>-8212.806</td>\n",
              "      <td>-8097.251</td>\n",
              "      <td>-7950.739</td>\n",
              "      <td>-7709.253</td>\n",
              "      <td>-7301.971</td>\n",
              "      <td>-6703.684</td>\n",
              "      <td>-5977.267</td>\n",
              "      <td>-5303.444</td>\n",
              "      <td>-4970.352</td>\n",
              "      <td>-5277.689</td>\n",
              "      <td>-6376.701</td>\n",
              "      <td>-8147.555</td>\n",
              "      <td>-10197.571</td>\n",
              "      <td>-11972.495</td>\n",
              "      <td>-12921.976</td>\n",
              "      <td>-12664.283</td>\n",
              "      <td>-11103.685</td>\n",
              "      <td>-8466.908</td>\n",
              "      <td>-5247.771</td>\n",
              "      <td>-2070.061</td>\n",
              "      <td>490.903</td>\n",
              "      <td>2059.144</td>\n",
              "      <td>2525.509</td>\n",
              "      <td>2022.622</td>\n",
              "      <td>837.664</td>\n",
              "      <td>-690.446</td>\n",
              "      <td>-2251.369</td>\n",
              "      <td>-3607.491</td>\n",
              "      <td>-4607.448</td>\n",
              "      <td>-5181.511</td>\n",
              "      <td>-5332.431</td>\n",
              "      <td>-5131.301</td>\n",
              "      <td>-4717.107</td>\n",
              "      <td>-4284.044</td>\n",
              "      <td>-4037.855</td>\n",
              "      <td>-4126.745</td>\n",
              "      <td>-4588.807</td>\n",
              "      <td>-5360.253</td>\n",
              "      <td>-6337.328</td>\n",
              "      <td>-7433.444</td>\n",
              "      <td>...</td>\n",
              "      <td>18834.121</td>\n",
              "      <td>14202.857</td>\n",
              "      <td>9966.887</td>\n",
              "      <td>6437.628</td>\n",
              "      <td>3729.267</td>\n",
              "      <td>1776.908</td>\n",
              "      <td>402.344</td>\n",
              "      <td>-593.671</td>\n",
              "      <td>-1351.617</td>\n",
              "      <td>-1923.924</td>\n",
              "      <td>-2306.344</td>\n",
              "      <td>-2500.854</td>\n",
              "      <td>-2559.660</td>\n",
              "      <td>-2571.485</td>\n",
              "      <td>-2587.698</td>\n",
              "      <td>-2526.315</td>\n",
              "      <td>-2115.726</td>\n",
              "      <td>-936.332</td>\n",
              "      <td>1421.119</td>\n",
              "      <td>5136.081</td>\n",
              "      <td>9995.531</td>\n",
              "      <td>15387.599</td>\n",
              "      <td>20458.997</td>\n",
              "      <td>24362.883</td>\n",
              "      <td>26501.340</td>\n",
              "      <td>26677.374</td>\n",
              "      <td>25103.127</td>\n",
              "      <td>22278.833</td>\n",
              "      <td>18823.509</td>\n",
              "      <td>15337.396</td>\n",
              "      <td>12319.335</td>\n",
              "      <td>10121.266</td>\n",
              "      <td>8924.713</td>\n",
              "      <td>8739.738</td>\n",
              "      <td>9430.305</td>\n",
              "      <td>10764.972</td>\n",
              "      <td>12482.479</td>\n",
              "      <td>14344.590</td>\n",
              "      <td>16144.706</td>\n",
              "      <td>17680.359</td>\n",
              "    </tr>\n",
              "    <tr>\n",
              "      <th>2</th>\n",
              "      <td>-2474.874</td>\n",
              "      <td>-3930.929</td>\n",
              "      <td>-5189.575</td>\n",
              "      <td>-6115.706</td>\n",
              "      <td>-6661.596</td>\n",
              "      <td>-6873.856</td>\n",
              "      <td>-6893.683</td>\n",
              "      <td>-6929.201</td>\n",
              "      <td>-7171.533</td>\n",
              "      <td>-7685.753</td>\n",
              "      <td>-8356.552</td>\n",
              "      <td>-8938.839</td>\n",
              "      <td>-9184.737</td>\n",
              "      <td>-8957.855</td>\n",
              "      <td>-8263.088</td>\n",
              "      <td>-7202.603</td>\n",
              "      <td>-5916.876</td>\n",
              "      <td>-4548.376</td>\n",
              "      <td>-3235.792</td>\n",
              "      <td>-2126.451</td>\n",
              "      <td>-1372.755</td>\n",
              "      <td>-1091.213</td>\n",
              "      <td>-1310.475</td>\n",
              "      <td>-1952.708</td>\n",
              "      <td>-2860.000</td>\n",
              "      <td>-3842.626</td>\n",
              "      <td>-4724.473</td>\n",
              "      <td>-5377.648</td>\n",
              "      <td>-5744.040</td>\n",
              "      <td>-5834.402</td>\n",
              "      <td>-5699.902</td>\n",
              "      <td>-5396.094</td>\n",
              "      <td>-4969.823</td>\n",
              "      <td>-4472.681</td>\n",
              "      <td>-3974.714</td>\n",
              "      <td>-3552.512</td>\n",
              "      <td>-3248.583</td>\n",
              "      <td>-3031.246</td>\n",
              "      <td>-2800.876</td>\n",
              "      <td>-2451.505</td>\n",
              "      <td>...</td>\n",
              "      <td>15279.496</td>\n",
              "      <td>13278.243</td>\n",
              "      <td>11611.365</td>\n",
              "      <td>10289.658</td>\n",
              "      <td>9204.880</td>\n",
              "      <td>8156.617</td>\n",
              "      <td>6923.276</td>\n",
              "      <td>5356.102</td>\n",
              "      <td>3449.354</td>\n",
              "      <td>1344.244</td>\n",
              "      <td>-731.013</td>\n",
              "      <td>-2539.320</td>\n",
              "      <td>-3884.611</td>\n",
              "      <td>-4622.441</td>\n",
              "      <td>-4657.845</td>\n",
              "      <td>-3964.770</td>\n",
              "      <td>-2625.469</td>\n",
              "      <td>-843.964</td>\n",
              "      <td>1106.487</td>\n",
              "      <td>2989.088</td>\n",
              "      <td>4710.296</td>\n",
              "      <td>6373.678</td>\n",
              "      <td>8244.434</td>\n",
              "      <td>10625.394</td>\n",
              "      <td>13695.399</td>\n",
              "      <td>17384.659</td>\n",
              "      <td>21339.802</td>\n",
              "      <td>24991.309</td>\n",
              "      <td>27706.256</td>\n",
              "      <td>28986.380</td>\n",
              "      <td>28645.041</td>\n",
              "      <td>26885.919</td>\n",
              "      <td>24239.062</td>\n",
              "      <td>21376.165</td>\n",
              "      <td>18888.552</td>\n",
              "      <td>17129.088</td>\n",
              "      <td>16172.503</td>\n",
              "      <td>15876.126</td>\n",
              "      <td>15986.748</td>\n",
              "      <td>16242.324</td>\n",
              "    </tr>\n",
              "    <tr>\n",
              "      <th>3</th>\n",
              "      <td>-6142.225</td>\n",
              "      <td>-6646.381</td>\n",
              "      <td>-7002.834</td>\n",
              "      <td>-7160.023</td>\n",
              "      <td>-7185.571</td>\n",
              "      <td>-7217.116</td>\n",
              "      <td>-7381.216</td>\n",
              "      <td>-7731.557</td>\n",
              "      <td>-8232.761</td>\n",
              "      <td>-8784.897</td>\n",
              "      <td>-9265.309</td>\n",
              "      <td>-9568.316</td>\n",
              "      <td>-9635.206</td>\n",
              "      <td>-9468.904</td>\n",
              "      <td>-9129.412</td>\n",
              "      <td>-8707.240</td>\n",
              "      <td>-8276.249</td>\n",
              "      <td>-7853.775</td>\n",
              "      <td>-7400.716</td>\n",
              "      <td>-6850.672</td>\n",
              "      <td>-6139.801</td>\n",
              "      <td>-5235.480</td>\n",
              "      <td>-4164.899</td>\n",
              "      <td>-3027.566</td>\n",
              "      <td>-1982.499</td>\n",
              "      <td>-1215.291</td>\n",
              "      <td>-889.436</td>\n",
              "      <td>-1089.771</td>\n",
              "      <td>-1779.369</td>\n",
              "      <td>-2793.507</td>\n",
              "      <td>-3883.676</td>\n",
              "      <td>-4804.947</td>\n",
              "      <td>-5406.993</td>\n",
              "      <td>-5674.761</td>\n",
              "      <td>-5702.532</td>\n",
              "      <td>-5631.338</td>\n",
              "      <td>-5583.463</td>\n",
              "      <td>-5614.156</td>\n",
              "      <td>-5697.740</td>\n",
              "      <td>-5753.883</td>\n",
              "      <td>...</td>\n",
              "      <td>19626.428</td>\n",
              "      <td>19148.825</td>\n",
              "      <td>18361.695</td>\n",
              "      <td>17378.017</td>\n",
              "      <td>16303.387</td>\n",
              "      <td>15186.731</td>\n",
              "      <td>14004.281</td>\n",
              "      <td>12678.386</td>\n",
              "      <td>11115.558</td>\n",
              "      <td>9250.417</td>\n",
              "      <td>7084.562</td>\n",
              "      <td>4704.276</td>\n",
              "      <td>2267.215</td>\n",
              "      <td>-32.394</td>\n",
              "      <td>-2002.342</td>\n",
              "      <td>-3485.243</td>\n",
              "      <td>-4383.525</td>\n",
              "      <td>-4674.764</td>\n",
              "      <td>-4412.368</td>\n",
              "      <td>-3707.849</td>\n",
              "      <td>-2699.557</td>\n",
              "      <td>-1520.802</td>\n",
              "      <td>-280.340</td>\n",
              "      <td>940.781</td>\n",
              "      <td>2085.306</td>\n",
              "      <td>3123.702</td>\n",
              "      <td>4069.795</td>\n",
              "      <td>4992.744</td>\n",
              "      <td>6004.980</td>\n",
              "      <td>7225.430</td>\n",
              "      <td>8739.097</td>\n",
              "      <td>10570.772</td>\n",
              "      <td>12673.508</td>\n",
              "      <td>14929.346</td>\n",
              "      <td>17163.639</td>\n",
              "      <td>19168.360</td>\n",
              "      <td>20731.676</td>\n",
              "      <td>21680.126</td>\n",
              "      <td>21924.398</td>\n",
              "      <td>21484.394</td>\n",
              "    </tr>\n",
              "    <tr>\n",
              "      <th>4</th>\n",
              "      <td>-862.439</td>\n",
              "      <td>-2426.047</td>\n",
              "      <td>-3651.333</td>\n",
              "      <td>-4362.161</td>\n",
              "      <td>-4594.833</td>\n",
              "      <td>-4543.702</td>\n",
              "      <td>-4460.781</td>\n",
              "      <td>-4555.398</td>\n",
              "      <td>-4916.912</td>\n",
              "      <td>-5489.399</td>\n",
              "      <td>-6109.499</td>\n",
              "      <td>-6581.182</td>\n",
              "      <td>-6748.767</td>\n",
              "      <td>-6541.485</td>\n",
              "      <td>-5983.268</td>\n",
              "      <td>-5177.053</td>\n",
              "      <td>-4271.348</td>\n",
              "      <td>-3413.676</td>\n",
              "      <td>-2707.536</td>\n",
              "      <td>-2196.414</td>\n",
              "      <td>-1880.514</td>\n",
              "      <td>-1747.979</td>\n",
              "      <td>-1796.774</td>\n",
              "      <td>-2034.852</td>\n",
              "      <td>-2461.238</td>\n",
              "      <td>-3041.877</td>\n",
              "      <td>-3697.981</td>\n",
              "      <td>-4316.695</td>\n",
              "      <td>-4778.585</td>\n",
              "      <td>-4990.545</td>\n",
              "      <td>-4916.959</td>\n",
              "      <td>-4598.199</td>\n",
              "      <td>-4141.540</td>\n",
              "      <td>-3686.151</td>\n",
              "      <td>-3362.545</td>\n",
              "      <td>-3262.442</td>\n",
              "      <td>-3422.837</td>\n",
              "      <td>-3826.378</td>\n",
              "      <td>-4418.389</td>\n",
              "      <td>-5132.691</td>\n",
              "      <td>...</td>\n",
              "      <td>16135.819</td>\n",
              "      <td>13862.757</td>\n",
              "      <td>11898.441</td>\n",
              "      <td>10686.956</td>\n",
              "      <td>10530.427</td>\n",
              "      <td>11518.643</td>\n",
              "      <td>13512.409</td>\n",
              "      <td>16174.904</td>\n",
              "      <td>19040.670</td>\n",
              "      <td>21611.909</td>\n",
              "      <td>23463.244</td>\n",
              "      <td>24328.451</td>\n",
              "      <td>24144.840</td>\n",
              "      <td>23040.865</td>\n",
              "      <td>21271.066</td>\n",
              "      <td>19126.091</td>\n",
              "      <td>16858.981</td>\n",
              "      <td>14658.052</td>\n",
              "      <td>12661.863</td>\n",
              "      <td>10979.613</td>\n",
              "      <td>9684.332</td>\n",
              "      <td>8780.598</td>\n",
              "      <td>8177.308</td>\n",
              "      <td>7698.727</td>\n",
              "      <td>7142.435</td>\n",
              "      <td>6355.666</td>\n",
              "      <td>5284.863</td>\n",
              "      <td>3975.333</td>\n",
              "      <td>2536.577</td>\n",
              "      <td>1106.878</td>\n",
              "      <td>-164.671</td>\n",
              "      <td>-1125.503</td>\n",
              "      <td>-1627.990</td>\n",
              "      <td>-1537.087</td>\n",
              "      <td>-729.687</td>\n",
              "      <td>903.359</td>\n",
              "      <td>3420.875</td>\n",
              "      <td>6749.214</td>\n",
              "      <td>10598.540</td>\n",
              "      <td>14451.191</td>\n",
              "    </tr>\n",
              "  </tbody>\n",
              "</table>\n",
              "<p>5 rows × 180 columns</p>\n",
              "</div>"
            ],
            "text/plain": [
              "        0         1         2    ...       177       178       179\n",
              "0 -4712.956 -3922.361 -3284.463  ... 11638.042 16318.133 20321.839\n",
              "1 -8212.806 -8097.251 -7950.739  ... 14344.590 16144.706 17680.359\n",
              "2 -2474.874 -3930.929 -5189.575  ... 15876.126 15986.748 16242.324\n",
              "3 -6142.225 -6646.381 -7002.834  ... 21680.126 21924.398 21484.394\n",
              "4  -862.439 -2426.047 -3651.333  ...  6749.214 10598.540 14451.191\n",
              "\n",
              "[5 rows x 180 columns]"
            ]
          },
          "metadata": {
            "tags": []
          },
          "execution_count": 7
        }
      ]
    },
    {
      "cell_type": "markdown",
      "metadata": {
        "id": "zH7r5BRN6KK4",
        "colab_type": "text"
      },
      "source": [
        "#### Get train, validating and testing sets"
      ]
    },
    {
      "cell_type": "code",
      "metadata": {
        "id": "LqwX6O-o6KK5",
        "colab_type": "code",
        "colab": {}
      },
      "source": [
        "from sklearn.model_selection import train_test_split\n",
        "\n",
        "X_train, X_test, y_train, y_test = train_test_split(X, y, test_size=0.5, random_state=21)"
      ],
      "execution_count": 0,
      "outputs": []
    },
    {
      "cell_type": "code",
      "metadata": {
        "id": "oGq4FdLB50kh",
        "colab_type": "code",
        "colab": {}
      },
      "source": [
        "array(['O', 's', 'O', 's', 'O', 's', 'k', 'k', 'k', 's', 's', 'O', 'O',\n",
        "       's', 'k', 'k', 'k', 'k', 's', 'O', 'O', 'O', 'k', 'O', 'k', 's',\n",
        "       'O', 'O', 'k', 'k', 'O', 's', 'k', 's', 's', 's', 'k', 'O'],\n",
        "      dtype=object)"
      ],
      "execution_count": 0,
      "outputs": []
    },
    {
      "cell_type": "code",
      "metadata": {
        "id": "PF7aWlGJwGGF",
        "colab_type": "code",
        "outputId": "9de7b238-9d6e-4ddd-a94f-aeed78c5a584",
        "colab": {
          "base_uri": "https://localhost:8080/",
          "height": 714
        }
      },
      "source": [
        "y_test"
      ],
      "execution_count": 12,
      "outputs": [
        {
          "output_type": "execute_result",
          "data": {
            "text/plain": [
              "3     O\n",
              "19    s\n",
              "14    O\n",
              "43    s\n",
              "10    O\n",
              "32    s\n",
              "23    k\n",
              "57    k\n",
              "24    k\n",
              "13    s\n",
              "22    s\n",
              "45    O\n",
              "17    O\n",
              "29    s\n",
              "69    k\n",
              "46    k\n",
              "11    k\n",
              "40    k\n",
              "8     s\n",
              "1     k\n",
              "7     O\n",
              "2     O\n",
              "21    k\n",
              "42    O\n",
              "36    k\n",
              "39    s\n",
              "47    O\n",
              "25    O\n",
              "64    k\n",
              "31    k\n",
              "30    O\n",
              "52    s\n",
              "72    k\n",
              "51    s\n",
              "49    s\n",
              "0     s\n",
              "53    k\n",
              "9     O\n",
              "Name: letter, dtype: object"
            ]
          },
          "metadata": {
            "tags": []
          },
          "execution_count": 12
        }
      ]
    },
    {
      "cell_type": "code",
      "metadata": {
        "id": "5ZOuojM6yaHC",
        "colab_type": "code",
        "colab": {}
      },
      "source": [
        ""
      ],
      "execution_count": 0,
      "outputs": []
    },
    {
      "cell_type": "markdown",
      "metadata": {
        "id": "U3oOjspW6KK8",
        "colab_type": "text"
      },
      "source": [
        "#### Check ranges of the data"
      ]
    },
    {
      "cell_type": "code",
      "metadata": {
        "id": "kZdTBWYy6KK-",
        "colab_type": "code",
        "colab": {}
      },
      "source": [
        "# X.max(0) - X.min(0)"
      ],
      "execution_count": 0,
      "outputs": []
    },
    {
      "cell_type": "code",
      "metadata": {
        "id": "a8xMk0hqw5qP",
        "colab_type": "code",
        "colab": {
          "base_uri": "https://localhost:8080/",
          "height": 126
        },
        "outputId": "b05974f7-33ea-4ed6-9ba7-73c5f272caf0"
      },
      "source": [
        "from google.colab import drive\n",
        "drive.mount('/content/drive')"
      ],
      "execution_count": 1,
      "outputs": [
        {
          "output_type": "stream",
          "text": [
            "Go to this URL in a browser: https://accounts.google.com/o/oauth2/auth?client_id=947318989803-6bn6qk8qdgf4n4g3pfee6491hc0brc4i.apps.googleusercontent.com&redirect_uri=urn%3Aietf%3Awg%3Aoauth%3A2.0%3Aoob&scope=email%20https%3A%2F%2Fwww.googleapis.com%2Fauth%2Fdocs.test%20https%3A%2F%2Fwww.googleapis.com%2Fauth%2Fdrive%20https%3A%2F%2Fwww.googleapis.com%2Fauth%2Fdrive.photos.readonly%20https%3A%2F%2Fwww.googleapis.com%2Fauth%2Fpeopleapi.readonly&response_type=code\n",
            "\n",
            "Enter your authorization code:\n",
            "··········\n",
            "Mounted at /content/drive\n"
          ],
          "name": "stdout"
        }
      ]
    },
    {
      "cell_type": "markdown",
      "metadata": {
        "id": "Qtu3NeWJ6KLC",
        "colab_type": "text"
      },
      "source": [
        "#### Choose metrics"
      ]
    },
    {
      "cell_type": "code",
      "metadata": {
        "id": "QOnLmgI-6KLD",
        "colab_type": "code",
        "colab": {}
      },
      "source": [
        "from sklearn.metrics import classification_report\n",
        "from sklearn.model_selection import cross_val_score\n",
        "from sklearn.model_selection import cross_val_predict\n",
        "from sklearn.metrics import accuracy_score\n",
        "from sklearn.metrics import precision_score, recall_score\n",
        "\n",
        "\n",
        "def evaluate_model(model, X, y, x_test, cv, scoring='accuracy'):\n",
        "    \"\"\"\n",
        "    Reports perfomance of the model on given set of data (test / train)\n",
        "\n",
        "    model - sklearn regression model (trained)\n",
        "\n",
        "    X  - array,\n",
        "     (n_observations_train, n_features) matrix,\n",
        "     train data.\n",
        "     \n",
        "    y - array,\n",
        "     (n_observation_train, ) array of train target\n",
        "\n",
        "    \"\"\"\n",
        "\n",
        "    y_pred = model.predict(X_test)\n",
        "    scores = cross_val_score(model, X, y, scoring=scoring, cv=cv)\n",
        "    y_pred_cv = cross_val_predict(model, X, y, cv=cv)\n",
        "    print('KFold cross_val_score: {0:.3f} ± {1:.3f}'.format(scores.mean(), scores.std()) )\n",
        "    \n",
        "    with np.printoptions(precision=3, suppress=True):\n",
        "        print('Accuracy of prediction on test set is {}'.format(accuracy_score(y_test, y_pred)))\n",
        "        print('Precision of prediction on test set is {}'.format(precision_score(y_test, y_pred)))\n",
        "        print('Recall of prediction on test set is {}'.format(recall_score(y_test, y_pred)))\n",
        "\n",
        "    # # move to evaluate model!\n",
        "    # print(model.best_score_)\n",
        "    # print('roc auc', roc_auc_score(y_test, y_predict_proba))\n",
        "    # print(model.best_params_)\n",
        "\n",
        "    return y_pred_cv"
      ],
      "execution_count": 0,
      "outputs": []
    },
    {
      "cell_type": "code",
      "metadata": {
        "id": "jht4h2ZW-HLW",
        "colab_type": "code",
        "colab": {}
      },
      "source": [
        ""
      ],
      "execution_count": 0,
      "outputs": []
    },
    {
      "cell_type": "markdown",
      "metadata": {
        "id": "AQbQfywu6KLG",
        "colab_type": "text"
      },
      "source": [
        "#### Write a function for pretty confusion matrix"
      ]
    },
    {
      "cell_type": "code",
      "metadata": {
        "id": "fINtii986KLG",
        "colab_type": "code",
        "colab": {}
      },
      "source": [
        "# from sklearn.metrics import confusion_matrix\n",
        "# from sklearn.model_selection import train_test_split\n",
        "# import itertools\n",
        "# X_train, X_test, y_train, y_test = train_test_split(X, y, test_size=0.2)\n",
        "# # clf = SVC(kernel='rbf', class_weight={0:1, 1:1, 2:1})\n",
        "# clf = RandomForestClassifier(n_estimators = 100)\n",
        "# y_pred = clf.fit(X_train, y_train).predict(X_test)\n",
        "# cnf_matrix = confusion_matrix(y_test, y_pred)\n",
        "\n",
        "# def plot_confusion_matrix(cm, classes,\n",
        "#                           normalize=False,\n",
        "#                           title='Confusion matrix',\n",
        "#                           cmap=plt.cm.Blues):\n",
        "#     \"\"\"\n",
        "#     This function prints and plots the confusion matrix.\n",
        "#     Normalization can be applied by setting `normalize=True`.\n",
        "#     \"\"\"\n",
        "#     if normalize:\n",
        "#         cm = cm.astype('float') / cm.sum(axis=1)[:, np.newaxis]\n",
        "#         print(\"Normalized confusion matrix\")\n",
        "#     else:\n",
        "#         print('Confusion matrix, without normalization')\n",
        "\n",
        "#     print(cm)\n",
        "#     plt.figure(figsize=(6, 6), dpi=200)\n",
        "#     plt.imshow(cm, interpolation='nearest', cmap=cmap)\n",
        "#     plt.title(title)\n",
        "#     plt.colorbar()\n",
        "#     tick_marks = np.arange(len(classes))\n",
        "#     plt.xticks(tick_marks, classes, rotation=45)\n",
        "#     plt.yticks(tick_marks, classes)\n",
        "\n",
        "#     fmt = '.2f' if normalize else 'd'\n",
        "#     thresh = cm.max() / 2.\n",
        "#     for i, j in itertools.product(range(cm.shape[0]), range(cm.shape[1])):\n",
        "#         plt.text(j, i, format(cm[i, j], fmt),\n",
        "#                  horizontalalignment=\"center\",\n",
        "#                  color=\"white\" if cm[i, j] > thresh else \"black\")\n",
        "\n",
        "#     plt.tight_layout()\n",
        "#     plt.ylabel('True label')\n",
        "#     plt.xlabel('Predicted label')\n",
        "    \n",
        "# plot_confusion_matrix(cnf_matrix, classes=[cl[\"cl_name\"] for cl in classes],\n",
        "#                       title='Normalized confusion matrix')"
      ],
      "execution_count": 0,
      "outputs": []
    },
    {
      "cell_type": "markdown",
      "metadata": {
        "id": "-HqGVZ3gLi4s",
        "colab_type": "text"
      },
      "source": [
        "#### Scale data"
      ]
    },
    {
      "cell_type": "code",
      "metadata": {
        "id": "S-1K7rDhLhc7",
        "colab_type": "code",
        "colab": {}
      },
      "source": [
        "from sklearn.preprocessing import StandardScaler\n",
        "\n",
        "scaler = StandardScaler()\n",
        "scaler.fit(X_train)\n",
        "X_train_scaled = scaler.transform(X_train.astype(np.float))\n",
        "X_test_scaled = scaler.transform(X_test.astype(np.float))\n",
        "\n",
        "# with np.printoptions(precision=3, suppress=True):\n",
        "#     print(X_train_scaled)\n",
        "\n",
        "# with np.printoptions(precision=3, suppress=True):\n",
        "#     print(scaler.transform(X_test_scaled))"
      ],
      "execution_count": 0,
      "outputs": []
    },
    {
      "cell_type": "code",
      "metadata": {
        "id": "t3JgtAHDmaSk",
        "colab_type": "code",
        "outputId": "e6f25d8d-6d35-4dd4-f15d-9bba254a00a1",
        "colab": {
          "base_uri": "https://localhost:8080/",
          "height": 35
        }
      },
      "source": [
        "X_test_scaled.shape"
      ],
      "execution_count": 15,
      "outputs": [
        {
          "output_type": "execute_result",
          "data": {
            "text/plain": [
              "(38, 180)"
            ]
          },
          "metadata": {
            "tags": []
          },
          "execution_count": 15
        }
      ]
    },
    {
      "cell_type": "markdown",
      "metadata": {
        "id": "eQQssyRT6KLJ",
        "colab_type": "text"
      },
      "source": [
        "#### Split data using StratifiedKFold"
      ]
    },
    {
      "cell_type": "code",
      "metadata": {
        "id": "KfX79qJW6KLK",
        "colab_type": "code",
        "colab": {}
      },
      "source": [
        "from sklearn.model_selection import StratifiedKFold\n",
        "\n",
        "stratifiedKFold = StratifiedKFold(n_splits=5, shuffle=True)\n",
        "cv = stratifiedKFold.split(X_train_scaled, y_train)"
      ],
      "execution_count": 0,
      "outputs": []
    },
    {
      "cell_type": "markdown",
      "metadata": {
        "id": "LLxy2NCoLoA9",
        "colab_type": "text"
      },
      "source": [
        "#### Try Nearest-Neighbor Classifier (don't forget to normalize data)"
      ]
    },
    {
      "cell_type": "code",
      "metadata": {
        "id": "StkMTYNG6KLO",
        "colab_type": "code",
        "outputId": "fad9d30c-1584-4e73-c70d-8c04f470d698",
        "colab": {
          "base_uri": "https://localhost:8080/",
          "height": 287
        }
      },
      "source": [
        "from sklearn.neighbors import KNeighborsClassifier\n",
        "from sklearn.model_selection import GridSearchCV\n",
        "\n",
        "knn = KNeighborsClassifier()\n",
        "\n",
        "gs_knn = GridSearchCV(knn, param_grid={\"n_neighbors\":list(range(1, 20))}, cv=cv)\n",
        "gs_knn.fit(X_train_scaled, y_train)"
      ],
      "execution_count": 17,
      "outputs": [
        {
          "output_type": "stream",
          "text": [
            "/usr/local/lib/python3.6/dist-packages/sklearn/model_selection/_search.py:814: DeprecationWarning: The default of the `iid` parameter will change from True to False in version 0.22 and will be removed in 0.24. This will change numeric results when test-set sizes are unequal.\n",
            "  DeprecationWarning)\n"
          ],
          "name": "stderr"
        },
        {
          "output_type": "execute_result",
          "data": {
            "text/plain": [
              "GridSearchCV(cv=<generator object _BaseKFold.split at 0x7f7598727d58>,\n",
              "             error_score='raise-deprecating',\n",
              "             estimator=KNeighborsClassifier(algorithm='auto', leaf_size=30,\n",
              "                                            metric='minkowski',\n",
              "                                            metric_params=None, n_jobs=None,\n",
              "                                            n_neighbors=5, p=2,\n",
              "                                            weights='uniform'),\n",
              "             iid='warn', n_jobs=None,\n",
              "             param_grid={'n_neighbors': [1, 2, 3, 4, 5, 6, 7, 8, 9, 10, 11, 12,\n",
              "                                         13, 14, 15, 16, 17, 18, 19]},\n",
              "             pre_dispatch='2*n_jobs', refit=True, return_train_score=False,\n",
              "             scoring=None, verbose=0)"
            ]
          },
          "metadata": {
            "tags": []
          },
          "execution_count": 17
        }
      ]
    },
    {
      "cell_type": "code",
      "metadata": {
        "id": "LN_ByjN0nC6U",
        "colab_type": "code",
        "outputId": "169febf6-9316-482a-dfb1-d2b86f731558",
        "colab": {
          "base_uri": "https://localhost:8080/",
          "height": 53
        }
      },
      "source": [
        "print(gs_knn.best_score_)\n",
        "# print('roc auc', roc_auc_score(y_test, y_predict_proba))\n",
        "print(gs_knn.best_params_)"
      ],
      "execution_count": 18,
      "outputs": [
        {
          "output_type": "stream",
          "text": [
            "1.0\n",
            "{'n_neighbors': 6}\n"
          ],
          "name": "stdout"
        }
      ]
    },
    {
      "cell_type": "markdown",
      "metadata": {
        "id": "CVaAVJ736KLR",
        "colab_type": "text"
      },
      "source": [
        "#### RESULTS: Nearest-Neighbor Classifier"
      ]
    },
    {
      "cell_type": "code",
      "metadata": {
        "id": "s9-NtFKVnUqM",
        "colab_type": "code",
        "colab": {
          "base_uri": "https://localhost:8080/",
          "height": 71
        },
        "outputId": "b6817850-80e3-41b7-f585-240fe6e94a55"
      },
      "source": [
        "y_pred = gs_knn.predict(X_test_scaled)\n",
        "# scores = cross_val_score(lr, X_train_scaled, y_train, scoring=\"accuracy\", cv=cv)\n",
        "# y_pred_cv = cross_val_predict(lr, X_test_scaled, y_test, cv=cv)\n",
        "# print('KFold cross_val_score: {0:.3f} ± {1:.3f}'.format(scores.mean(), scores.std()) )\n",
        "\n",
        "with np.printoptions(precision=3, suppress=True):\n",
        "    print('Accuracy of prediction on test set is {}'.format(accuracy_score(y_test, y_pred)))\n",
        "    print('Precision of prediction on test set is {}'.format(precision_score(y_test, y_pred, average='weighted')))\n",
        "    print('Recall of prediction on test set is {}'.format(recall_score(y_test, y_pred, average='weighted')))\n",
        "\n",
        "\n",
        "# # move to evaluate model!\n",
        "# print(model.best_score_)\n",
        "# print('roc auc', roc_auc_score(y_test, y_predict_proba))\n",
        "# print(model.best_params_)"
      ],
      "execution_count": 19,
      "outputs": [
        {
          "output_type": "stream",
          "text": [
            "Accuracy of prediction on test set is 0.9736842105263158\n",
            "Precision of prediction on test set is 0.9757085020242916\n",
            "Recall of prediction on test set is 0.9736842105263158\n"
          ],
          "name": "stdout"
        }
      ]
    },
    {
      "cell_type": "code",
      "metadata": {
        "id": "5R-yPdAQy-b6",
        "colab_type": "code",
        "colab": {
          "base_uri": "https://localhost:8080/",
          "height": 88
        },
        "outputId": "9797ba10-7ee7-41a1-ef47-aedd2ffe9f94"
      },
      "source": [
        "y_pred"
      ],
      "execution_count": 20,
      "outputs": [
        {
          "output_type": "execute_result",
          "data": {
            "text/plain": [
              "array(['O', 's', 'O', 's', 'O', 's', 'k', 'k', 'k', 's', 's', 'O', 'O',\n",
              "       's', 'k', 'k', 'k', 'k', 's', 'O', 'O', 'O', 'k', 'O', 'k', 's',\n",
              "       'O', 'O', 'k', 'k', 'O', 's', 'k', 's', 's', 's', 'k', 'O'],\n",
              "      dtype=object)"
            ]
          },
          "metadata": {
            "tags": []
          },
          "execution_count": 20
        }
      ]
    },
    {
      "cell_type": "code",
      "metadata": {
        "id": "tehd2r-o6KLR",
        "colab_type": "code",
        "colab": {}
      },
      "source": [
        "# y_pred_cv = evaluate_model(gs_knn, X_train_scaled, y, X_test_scaled, cv)\n",
        "\n",
        "# params = [x['n_neighbors'] for x in gs_knn.cv_results_['params']]\n",
        "# fig, ax = plt.subplots(1, 1, figsize=(6, 3))\n",
        "# plt.plot(params, gs_knn.cv_results_['mean_test_score'])"
      ],
      "execution_count": 0,
      "outputs": []
    },
    {
      "cell_type": "markdown",
      "metadata": {
        "id": "Bfo9kyB16KLU",
        "colab_type": "text"
      },
      "source": [
        "#### Try Logistic Regression"
      ]
    },
    {
      "cell_type": "code",
      "metadata": {
        "id": "ZYFgc5xp6KLV",
        "colab_type": "code",
        "outputId": "274c3dd7-3edd-4a77-fcc8-2326cc5c79ce",
        "colab": {
          "base_uri": "https://localhost:8080/",
          "height": 106
        }
      },
      "source": [
        "# from sklearn.pipeline import make_pipeline\n",
        "from sklearn.linear_model import LogisticRegressionCV\n",
        "\n",
        "lr = LogisticRegressionCV()  # solver='lbfgs'\n",
        "lr.fit(X_train_scaled, y_train)"
      ],
      "execution_count": 15,
      "outputs": [
        {
          "output_type": "execute_result",
          "data": {
            "text/plain": [
              "LogisticRegressionCV(Cs=10, class_weight=None, cv='warn', dual=False,\n",
              "                     fit_intercept=True, intercept_scaling=1.0, l1_ratios=None,\n",
              "                     max_iter=100, multi_class='warn', n_jobs=None,\n",
              "                     penalty='l2', random_state=None, refit=True, scoring=None,\n",
              "                     solver='lbfgs', tol=0.0001, verbose=0)"
            ]
          },
          "metadata": {
            "tags": []
          },
          "execution_count": 15
        }
      ]
    },
    {
      "cell_type": "markdown",
      "metadata": {
        "id": "dibt9iA46KLX",
        "colab_type": "text"
      },
      "source": [
        "#### RESULTS: Logistic Regression "
      ]
    },
    {
      "cell_type": "code",
      "metadata": {
        "id": "IOt5APMOnmXH",
        "colab_type": "code",
        "outputId": "894881aa-78af-444f-9803-851a14801a8e",
        "colab": {
          "base_uri": "https://localhost:8080/",
          "height": 409
        }
      },
      "source": [
        "y_pred = lr.predict(X_test_scaled)\n",
        "# scores = cross_val_score(lr, X_train_scaled, y_train, scoring=\"accuracy\", cv=cv)\n",
        "# y_pred_cv = cross_val_predict(lr, X_test_scaled, y_test, cv=cv)\n",
        "# print('KFold cross_val_score: {0:.3f} ± {1:.3f}'.format(scores.mean(), scores.std()) )\n",
        "\n",
        "with np.printoptions(precision=3, suppress=True):\n",
        "    print('Accuracy of prediction on test set is {}'.format(accuracy_score(y_test, y_pred)))\n",
        "    # print('Precision of prediction on test set is {}'.format(precision_score(y_test, y_pred)))\n",
        "    # print('Recall of prediction on test set is {}'.format(recall_score(y_test, y_pred)))\n",
        "\n",
        "\n",
        "# # move to evaluate model!\n",
        "# print(model.best_score_)\n",
        "# print('roc auc', roc_auc_score(y_test, y_predict_proba))\n",
        "# print(model.best_params_)"
      ],
      "execution_count": 22,
      "outputs": [
        {
          "output_type": "stream",
          "text": [
            "Accuracy of prediction on test set is 1.0\n"
          ],
          "name": "stdout"
        },
        {
          "output_type": "error",
          "ename": "ValueError",
          "evalue": "ignored",
          "traceback": [
            "\u001b[0;31m---------------------------------------------------------------------------\u001b[0m",
            "\u001b[0;31mValueError\u001b[0m                                Traceback (most recent call last)",
            "\u001b[0;32m<ipython-input-22-95faaebabaff>\u001b[0m in \u001b[0;36m<module>\u001b[0;34m()\u001b[0m\n\u001b[1;32m      7\u001b[0m     \u001b[0mprint\u001b[0m\u001b[0;34m(\u001b[0m\u001b[0;34m'Accuracy of prediction on test set is {}'\u001b[0m\u001b[0;34m.\u001b[0m\u001b[0mformat\u001b[0m\u001b[0;34m(\u001b[0m\u001b[0maccuracy_score\u001b[0m\u001b[0;34m(\u001b[0m\u001b[0my_test\u001b[0m\u001b[0;34m,\u001b[0m \u001b[0my_pred\u001b[0m\u001b[0;34m)\u001b[0m\u001b[0;34m)\u001b[0m\u001b[0;34m)\u001b[0m\u001b[0;34m\u001b[0m\u001b[0;34m\u001b[0m\u001b[0m\n\u001b[1;32m      8\u001b[0m     \u001b[0;31m# print('Precision of prediction on test set is {}'.format(precision_score(y_test, y_pred)))\u001b[0m\u001b[0;34m\u001b[0m\u001b[0;34m\u001b[0m\u001b[0;34m\u001b[0m\u001b[0m\n\u001b[0;32m----> 9\u001b[0;31m     \u001b[0mprint\u001b[0m\u001b[0;34m(\u001b[0m\u001b[0;34m'Recall of prediction on test set is {}'\u001b[0m\u001b[0;34m.\u001b[0m\u001b[0mformat\u001b[0m\u001b[0;34m(\u001b[0m\u001b[0mrecall_score\u001b[0m\u001b[0;34m(\u001b[0m\u001b[0my_test\u001b[0m\u001b[0;34m,\u001b[0m \u001b[0my_pred\u001b[0m\u001b[0;34m)\u001b[0m\u001b[0;34m)\u001b[0m\u001b[0;34m)\u001b[0m\u001b[0;34m\u001b[0m\u001b[0;34m\u001b[0m\u001b[0m\n\u001b[0m\u001b[1;32m     10\u001b[0m \u001b[0;34m\u001b[0m\u001b[0m\n\u001b[1;32m     11\u001b[0m \u001b[0;34m\u001b[0m\u001b[0m\n",
            "\u001b[0;32m/usr/local/lib/python3.6/dist-packages/sklearn/metrics/classification.py\u001b[0m in \u001b[0;36mrecall_score\u001b[0;34m(y_true, y_pred, labels, pos_label, average, sample_weight)\u001b[0m\n\u001b[1;32m   1673\u001b[0m                                                  \u001b[0maverage\u001b[0m\u001b[0;34m=\u001b[0m\u001b[0maverage\u001b[0m\u001b[0;34m,\u001b[0m\u001b[0;34m\u001b[0m\u001b[0;34m\u001b[0m\u001b[0m\n\u001b[1;32m   1674\u001b[0m                                                  \u001b[0mwarn_for\u001b[0m\u001b[0;34m=\u001b[0m\u001b[0;34m(\u001b[0m\u001b[0;34m'recall'\u001b[0m\u001b[0;34m,\u001b[0m\u001b[0;34m)\u001b[0m\u001b[0;34m,\u001b[0m\u001b[0;34m\u001b[0m\u001b[0;34m\u001b[0m\u001b[0m\n\u001b[0;32m-> 1675\u001b[0;31m                                                  sample_weight=sample_weight)\n\u001b[0m\u001b[1;32m   1676\u001b[0m     \u001b[0;32mreturn\u001b[0m \u001b[0mr\u001b[0m\u001b[0;34m\u001b[0m\u001b[0;34m\u001b[0m\u001b[0m\n\u001b[1;32m   1677\u001b[0m \u001b[0;34m\u001b[0m\u001b[0m\n",
            "\u001b[0;32m/usr/local/lib/python3.6/dist-packages/sklearn/metrics/classification.py\u001b[0m in \u001b[0;36mprecision_recall_fscore_support\u001b[0;34m(y_true, y_pred, beta, labels, pos_label, average, warn_for, sample_weight)\u001b[0m\n\u001b[1;32m   1413\u001b[0m         \u001b[0;32mraise\u001b[0m \u001b[0mValueError\u001b[0m\u001b[0;34m(\u001b[0m\u001b[0;34m\"beta should be >0 in the F-beta score\"\u001b[0m\u001b[0;34m)\u001b[0m\u001b[0;34m\u001b[0m\u001b[0;34m\u001b[0m\u001b[0m\n\u001b[1;32m   1414\u001b[0m     labels = _check_set_wise_labels(y_true, y_pred, average, labels,\n\u001b[0;32m-> 1415\u001b[0;31m                                     pos_label)\n\u001b[0m\u001b[1;32m   1416\u001b[0m \u001b[0;34m\u001b[0m\u001b[0m\n\u001b[1;32m   1417\u001b[0m     \u001b[0;31m# Calculate tp_sum, pred_sum, true_sum ###\u001b[0m\u001b[0;34m\u001b[0m\u001b[0;34m\u001b[0m\u001b[0;34m\u001b[0m\u001b[0m\n",
            "\u001b[0;32m/usr/local/lib/python3.6/dist-packages/sklearn/metrics/classification.py\u001b[0m in \u001b[0;36m_check_set_wise_labels\u001b[0;34m(y_true, y_pred, average, labels, pos_label)\u001b[0m\n\u001b[1;32m   1252\u001b[0m             raise ValueError(\"Target is %s but average='binary'. Please \"\n\u001b[1;32m   1253\u001b[0m                              \u001b[0;34m\"choose another average setting, one of %r.\"\u001b[0m\u001b[0;34m\u001b[0m\u001b[0;34m\u001b[0m\u001b[0m\n\u001b[0;32m-> 1254\u001b[0;31m                              % (y_type, average_options))\n\u001b[0m\u001b[1;32m   1255\u001b[0m     \u001b[0;32melif\u001b[0m \u001b[0mpos_label\u001b[0m \u001b[0;32mnot\u001b[0m \u001b[0;32min\u001b[0m \u001b[0;34m(\u001b[0m\u001b[0;32mNone\u001b[0m\u001b[0;34m,\u001b[0m \u001b[0;36m1\u001b[0m\u001b[0;34m)\u001b[0m\u001b[0;34m:\u001b[0m\u001b[0;34m\u001b[0m\u001b[0;34m\u001b[0m\u001b[0m\n\u001b[1;32m   1256\u001b[0m         warnings.warn(\"Note that pos_label (set to %r) is ignored when \"\n",
            "\u001b[0;31mValueError\u001b[0m: Target is multiclass but average='binary'. Please choose another average setting, one of [None, 'micro', 'macro', 'weighted']."
          ]
        }
      ]
    },
    {
      "cell_type": "code",
      "metadata": {
        "id": "TkvxPJsfqOtH",
        "colab_type": "code",
        "outputId": "12c81bd1-8410-4b05-918e-ea5d50c53526",
        "colab": {
          "base_uri": "https://localhost:8080/",
          "height": 374
        }
      },
      "source": [
        "y_test"
      ],
      "execution_count": 20,
      "outputs": [
        {
          "output_type": "execute_result",
          "data": {
            "text/plain": [
              "4     s\n",
              "63    k\n",
              "10    O\n",
              "0     s\n",
              "35    s\n",
              "61    k\n",
              "28    k\n",
              "12    O\n",
              "69    k\n",
              "64    k\n",
              "34    O\n",
              "42    O\n",
              "49    s\n",
              "18    s\n",
              "9     O\n",
              "22    s\n",
              "5     O\n",
              "33    s\n",
              "56    s\n",
              "Name: letter, dtype: object"
            ]
          },
          "metadata": {
            "tags": []
          },
          "execution_count": 20
        }
      ]
    },
    {
      "cell_type": "code",
      "metadata": {
        "id": "uwYf83cXoAK7",
        "colab_type": "code",
        "outputId": "1f352d9c-35dd-46b8-8a03-11420c3eb664",
        "colab": {
          "base_uri": "https://localhost:8080/",
          "height": 53
        }
      },
      "source": [
        "y_pred"
      ],
      "execution_count": 21,
      "outputs": [
        {
          "output_type": "execute_result",
          "data": {
            "text/plain": [
              "array(['s', 'k', 'O', 's', 's', 'k', 'k', 'O', 'k', 'k', 'O', 'O', 's',\n",
              "       's', 'O', 's', 'O', 's', 's'], dtype=object)"
            ]
          },
          "metadata": {
            "tags": []
          },
          "execution_count": 21
        }
      ]
    },
    {
      "cell_type": "code",
      "metadata": {
        "id": "5u2cbBVT6KLY",
        "colab_type": "code",
        "colab": {}
      },
      "source": [
        "# y_pred_cv = evaluate_model(lr, X_train_scaled, y, X_test_scaled, cv)"
      ],
      "execution_count": 0,
      "outputs": []
    },
    {
      "cell_type": "markdown",
      "metadata": {
        "id": "mt_4lWAo6KLa",
        "colab_type": "text"
      },
      "source": [
        "#### Random Forest Classifier"
      ]
    },
    {
      "cell_type": "code",
      "metadata": {
        "id": "CjgwImUJ6KLc",
        "colab_type": "code",
        "colab": {}
      },
      "source": [
        "from sklearn.ensemble import RandomForestClassifier\n",
        "# from sklearn.preprocessing import Normalizer\n",
        "\n",
        "gs_rfc = GridSearchCV(RandomForestClassifier(), \n",
        "                   {'n_estimators':[50, 100, 200, 300, 400, 500, 750], \n",
        "                    'max_depth':[2, 3, 4, 6, 10, 15]\n",
        "                   },\n",
        "                   scoring='accuracy', cv=3)\n",
        "gs_rfc.fit(X_train_scaled, y_train)"
      ],
      "execution_count": 0,
      "outputs": []
    },
    {
      "cell_type": "markdown",
      "metadata": {
        "id": "T-yOgI3v6KLe",
        "colab_type": "text"
      },
      "source": [
        "#### RESULTS: Random forest"
      ]
    },
    {
      "cell_type": "code",
      "metadata": {
        "id": "jlnufwm66KLf",
        "colab_type": "code",
        "colab": {}
      },
      "source": [
        "y_pred_cv = evaluate_model(gs_rfc, X_train_scaled, y, X_test_scaled, cv)\n",
        "y_predict_proba = gs_rfc.predict_proba(X_test_scaled)[:,1]\n",
        "\n",
        "# params = [x['n_estimators'] for x in gs.cv_results_['params']]\n",
        "# fig, ax = plt.subplots(1, 1, figsize=(6, 3), dpi=600)\n",
        "# plt.plot(params, gs.cv_results_['mean_test_score']);\n",
        "# ax.set_xlabel('n_estimators')\n",
        "# ax.set_ylabel('KFold score')\n",
        "# plt.savefig('img/forest_results.png',bbox_inches='tight');\n",
        "# plt.close(fig);"
      ],
      "execution_count": 0,
      "outputs": []
    },
    {
      "cell_type": "code",
      "metadata": {
        "id": "BJW9_T0yiAc0",
        "colab_type": "code",
        "colab": {}
      },
      "source": [
        "# from scipy.fftpack import dct, idct\n",
        "\n",
        "# N = 100\n",
        "# t = np.linspace(0,20,N)\n",
        "# x = np.exp(-t/3)*np.cos(2*t)\n",
        "# y = dct(x, norm='ortho')\n",
        "# window = np.zeros(N)\n",
        "# window[:20] = 1\n",
        "# yr = idct(y*window, norm='ortho')\n",
        "# # sum(abs(x-yr)**2) / sum(abs(x)**2)\n",
        "\n",
        "# plt.plot(t, x, '-bx')\n",
        "# # plt.plot(t, yr, 'ro')\n",
        "# window = np.zeros(N)\n",
        "# window[:15] = 1\n",
        "# yr = idct(y*window, norm='ortho')\n",
        "# plt.plot(t, yr, 'g+')\n",
        "\n",
        "# # sum(abs(x-yr)**2) / sum(abs(x)**2)\n",
        "\n",
        "# plt.legend(['x', '$x_{20}$', '$x_{15}$'])\n",
        "# plt.grid()\n",
        "# plt.show()"
      ],
      "execution_count": 0,
      "outputs": []
    },
    {
      "cell_type": "code",
      "metadata": {
        "id": "5kPBDAGcIvMF",
        "colab_type": "code",
        "colab": {}
      },
      "source": [
        "    # print('Accuracy of prediction is {}'.format(accuracy_score(y_test, y_pred)))\n",
        "    # print('Accuracy of prediction on train set is {}'.format(precision_score(y_test, y_pred)))\n",
        "    # print('Accuracy of prediction on test set is {}'.format(recall_score(y_test, y_pred)))\n",
        "    \n",
        "\n",
        "\n",
        "    # print('Accuracy', accuracy_score(y_train, clf.predict(X_train)))\n",
        "    # print('Precision', precision_score(y_train, clf.predict(X_train)))\n",
        "    # print('Recall', recall_score(y_train, clf.predict(X_train)))\n",
        "    \n",
        "\n",
        "    \n",
        "    # print(classification_report(y, y_pred))"
      ],
      "execution_count": 0,
      "outputs": []
    },
    {
      "cell_type": "code",
      "metadata": {
        "id": "4Xu9rPUGk-XX",
        "colab_type": "code",
        "colab": {}
      },
      "source": [
        "# files = glob.glob('/content/drive/My Drive/Colab/data_set/*.csv')\n",
        "# # print(files)\n",
        "# print(files[20][39])\n",
        "\n",
        "# frames = [ process_your_file(f) for f in files ]\n",
        "# result = pd.concat(frames, axis=1, sort=False)\n",
        "\n",
        "# id = pd.Series('S', index=['id'])\n",
        "# gesture = pd.concat([df[\"f_Acc_x\"], df[\"f_Acc_y\"], df[\"f_Acc_z\"]], ignore_index=True)\n",
        "# gesture = pd.concat([id, gesture])\n",
        "\n",
        "# result = pd.concat([gesture, gesture], axis=1, sort=False)\n",
        "# dataset = result.transpose()\n",
        "# # dataset.set_index('id', inplace=True)\n",
        "# y = dataset['id']\n",
        "# X = dataset.iloc[:, 1:]\n",
        "# dataset.head()\n"
      ],
      "execution_count": 0,
      "outputs": []
    },
    {
      "cell_type": "markdown",
      "metadata": {
        "id": "6f6D0MpA6KLi",
        "colab_type": "text"
      },
      "source": [
        "## Resources\n",
        "\n",
        "[1] Real-time Gesture Pattern Classification with IMU Data. \n",
        "Alex Fu, Yangyang Yu\n",
        "http://stanford.edu/class/ee267/Spring2017/report_fu_yu.pdf\n",
        "\n",
        "- lib for training with IMU\n",
        "\n",
        "- Attitude Estimation - Data and Code Listings\n",
        "http://philsal.co.uk/projects/imu-attitude-estimation\n",
        "\n",
        "https://github.com/pms67/Attitude-Estimation\n",
        "\n",
        "- Micropython ESP32 board\n",
        "https://medium.com/@nihal.pasham/micropython-just-works-4e8979e7d7a6\n",
        "\n",
        "https://github.com/nihalpasham/micropython_sensorfusion\n",
        "\n",
        "- Smartphone-Based Recognition of Human Activities and Postural Transitions Data Set\n",
        "https://archive.ics.uci.edu/ml/datasets/Smartphone-Based+Recognition+of+Human+Activities+and+Postural+Transitions\n",
        "\n",
        "https://beckernick.github.io/activity-prediction/\n",
        "\n",
        "- Sensor Fusion on Android Devices: A Revolution in Motion Processing\n",
        "https://www.youtube.com/watch?v=C7JQ7Rpwn2k\n",
        "\n",
        "- An introduction to inertial navigation\n",
        "https://www.cl.cam.ac.uk/techreports/UCAM-CL-TR-696.pdf\n",
        "\n",
        "- Implementing Positioning Algorithms Using Accelerometers\n",
        "https://www.nxp.com/docs/en/application-note/AN3397.pdf\n",
        "\n",
        "- Madgwick\n",
        "https://x-io.co.uk/open-source-imu-and-ahrs-algorithms/"
      ]
    },
    {
      "cell_type": "code",
      "metadata": {
        "id": "E81DkIPmCQTR",
        "colab_type": "code",
        "colab": {}
      },
      "source": [
        ""
      ],
      "execution_count": 0,
      "outputs": []
    }
  ]
}